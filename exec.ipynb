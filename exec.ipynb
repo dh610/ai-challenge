{
  "cells": [
    {
      "cell_type": "markdown",
      "metadata": {
        "id": "view-in-github",
        "colab_type": "text"
      },
      "source": [
        "<a href=\"https://colab.research.google.com/github/dh610/ai-challenge/blob/main/exec.ipynb\" target=\"_parent\"><img src=\"https://colab.research.google.com/assets/colab-badge.svg\" alt=\"Open In Colab\"/></a>"
      ]
    },
    {
      "cell_type": "code",
      "source": [
        "from google.colab import drive\n",
        "drive.mount('/content/drive')"
      ],
      "metadata": {
        "colab": {
          "base_uri": "https://localhost:8080/"
        },
        "id": "3LeERkBIL1j8",
        "outputId": "a8e94a6a-2dd0-4fe9-cc4e-6c78d5ab3658"
      },
      "execution_count": 1,
      "outputs": [
        {
          "output_type": "stream",
          "name": "stdout",
          "text": [
            "Mounted at /content/drive\n"
          ]
        }
      ]
    },
    {
      "cell_type": "code",
      "source": [
        "import sys\n",
        "import os\n",
        "\n",
        "os.chdir(\"/content/drive/MyDrive/ai-challenge/\")\n",
        "!git pull"
      ],
      "metadata": {
        "id": "kr8sQ0b2QVsK",
        "outputId": "9113142c-e865-4826-f537-ac5a3d425925",
        "colab": {
          "base_uri": "https://localhost:8080/"
        }
      },
      "execution_count": 12,
      "outputs": [
        {
          "output_type": "stream",
          "name": "stdout",
          "text": [
            "remote: Enumerating objects: 5, done.\u001b[K\n",
            "remote: Counting objects:  20% (1/5)\u001b[K\rremote: Counting objects:  40% (2/5)\u001b[K\rremote: Counting objects:  60% (3/5)\u001b[K\rremote: Counting objects:  80% (4/5)\u001b[K\rremote: Counting objects: 100% (5/5)\u001b[K\rremote: Counting objects: 100% (5/5), done.\u001b[K\n",
            "remote: Compressing objects: 100% (1/1)\u001b[K\rremote: Compressing objects: 100% (1/1), done.\u001b[K\n",
            "remote: Total 3 (delta 2), reused 3 (delta 2), pack-reused 0 (from 0)\u001b[K\n",
            "Unpacking objects: 100% (3/3), 263 bytes | 0 bytes/s, done.\n",
            "From https://github.com/dh610/ai-challenge\n",
            "   6788669..d142216  main       -> origin/main\n",
            "Updating 6788669..d142216\n",
            "Fast-forward\n",
            " train.py | 2 \u001b[32m+\u001b[m\u001b[31m-\u001b[m\n",
            " 1 file changed, 1 insertion(+), 1 deletion(-)\n"
          ]
        }
      ]
    },
    {
      "cell_type": "code",
      "source": [
        "!python3 train.py"
      ],
      "metadata": {
        "id": "v-epJXo4Bb7h",
        "outputId": "48b98970-e63c-430f-ea44-6f7278d4677b",
        "colab": {
          "base_uri": "https://localhost:8080/"
        }
      },
      "execution_count": 13,
      "outputs": [
        {
          "output_type": "stream",
          "name": "stdout",
          "text": [
            "Loading checkpoint: epoch_507.pth\n",
            "/content/drive/MyDrive/ai-challenge/utils.py:68: FutureWarning: You are using `torch.load` with `weights_only=False` (the current default value), which uses the default pickle module implicitly. It is possible to construct malicious pickle data which will execute arbitrary code during unpickling (See https://github.com/pytorch/pytorch/blob/main/SECURITY.md#untrusted-models for more details). In a future release, the default value for `weights_only` will be flipped to `True`. This limits the functions that could be executed during unpickling. Arbitrary objects will no longer be allowed to be loaded via this mode unless they are explicitly allowlisted by the user via `torch.serialization.add_safe_globals`. We recommend you start setting `weights_only=True` for any use case where you don't have full control of the loaded file. Please open an issue on GitHub for any issues related to this experimental feature.\n",
            "  checkpoint = torch.load(os.path.join(ckpt_path, latest_checkpoint))\n",
            "odict_keys(['conv1.0.weight', 'conv1.1.weight', 'conv1.1.bias', 'conv1.1.running_mean', 'conv1.1.running_var', 'conv1.1.num_batches_tracked', 'conv3_x.0.residual_function.0.depthwise.weight', 'conv3_x.0.residual_function.0.pointwise.weight', 'conv3_x.0.residual_function.1.weight', 'conv3_x.0.residual_function.1.bias', 'conv3_x.0.residual_function.1.running_mean', 'conv3_x.0.residual_function.1.running_var', 'conv3_x.0.residual_function.1.num_batches_tracked', 'conv3_x.0.residual_function.3.depthwise.weight', 'conv3_x.0.residual_function.3.pointwise.weight', 'conv3_x.0.residual_function.4.weight', 'conv3_x.0.residual_function.4.bias', 'conv3_x.0.residual_function.4.running_mean', 'conv3_x.0.residual_function.4.running_var', 'conv3_x.0.residual_function.4.num_batches_tracked', 'conv3_x.0.shortcut.0.depthwise.weight', 'conv3_x.0.shortcut.0.pointwise.weight', 'conv3_x.0.shortcut.1.weight', 'conv3_x.0.shortcut.1.bias', 'conv3_x.0.shortcut.1.running_mean', 'conv3_x.0.shortcut.1.running_var', 'conv3_x.0.shortcut.1.num_batches_tracked', 'conv3_x.1.residual_function.0.depthwise.weight', 'conv3_x.1.residual_function.0.pointwise.weight', 'conv3_x.1.residual_function.1.weight', 'conv3_x.1.residual_function.1.bias', 'conv3_x.1.residual_function.1.running_mean', 'conv3_x.1.residual_function.1.running_var', 'conv3_x.1.residual_function.1.num_batches_tracked', 'conv3_x.1.residual_function.3.depthwise.weight', 'conv3_x.1.residual_function.3.pointwise.weight', 'conv3_x.1.residual_function.4.weight', 'conv3_x.1.residual_function.4.bias', 'conv3_x.1.residual_function.4.running_mean', 'conv3_x.1.residual_function.4.running_var', 'conv3_x.1.residual_function.4.num_batches_tracked', 'conv4_x.0.residual_function.0.depthwise.weight', 'conv4_x.0.residual_function.0.pointwise.weight', 'conv4_x.0.residual_function.1.weight', 'conv4_x.0.residual_function.1.bias', 'conv4_x.0.residual_function.1.running_mean', 'conv4_x.0.residual_function.1.running_var', 'conv4_x.0.residual_function.1.num_batches_tracked', 'conv4_x.0.residual_function.3.depthwise.weight', 'conv4_x.0.residual_function.3.pointwise.weight', 'conv4_x.0.residual_function.4.weight', 'conv4_x.0.residual_function.4.bias', 'conv4_x.0.residual_function.4.running_mean', 'conv4_x.0.residual_function.4.running_var', 'conv4_x.0.residual_function.4.num_batches_tracked', 'conv4_x.0.shortcut.0.depthwise.weight', 'conv4_x.0.shortcut.0.pointwise.weight', 'conv4_x.0.shortcut.1.weight', 'conv4_x.0.shortcut.1.bias', 'conv4_x.0.shortcut.1.running_mean', 'conv4_x.0.shortcut.1.running_var', 'conv4_x.0.shortcut.1.num_batches_tracked', 'conv5_x.0.residual_function.0.depthwise.weight', 'conv5_x.0.residual_function.0.pointwise.weight', 'conv5_x.0.residual_function.1.weight', 'conv5_x.0.residual_function.1.bias', 'conv5_x.0.residual_function.1.running_mean', 'conv5_x.0.residual_function.1.running_var', 'conv5_x.0.residual_function.1.num_batches_tracked', 'conv5_x.0.residual_function.3.depthwise.weight', 'conv5_x.0.residual_function.3.pointwise.weight', 'conv5_x.0.residual_function.4.weight', 'conv5_x.0.residual_function.4.bias', 'conv5_x.0.residual_function.4.running_mean', 'conv5_x.0.residual_function.4.running_var', 'conv5_x.0.residual_function.4.num_batches_tracked', 'conv5_x.0.shortcut.0.depthwise.weight', 'conv5_x.0.shortcut.0.pointwise.weight', 'conv5_x.0.shortcut.1.weight', 'conv5_x.0.shortcut.1.bias', 'conv5_x.0.shortcut.1.running_mean', 'conv5_x.0.shortcut.1.running_var', 'conv5_x.0.shortcut.1.num_batches_tracked', 'conv5_x.1.residual_function.0.depthwise.weight', 'conv5_x.1.residual_function.0.pointwise.weight', 'conv5_x.1.residual_function.1.weight', 'conv5_x.1.residual_function.1.bias', 'conv5_x.1.residual_function.1.running_mean', 'conv5_x.1.residual_function.1.running_var', 'conv5_x.1.residual_function.1.num_batches_tracked', 'conv5_x.1.residual_function.3.depthwise.weight', 'conv5_x.1.residual_function.3.pointwise.weight', 'conv5_x.1.residual_function.4.weight', 'conv5_x.1.residual_function.4.bias', 'conv5_x.1.residual_function.4.running_mean', 'conv5_x.1.residual_function.4.running_var', 'conv5_x.1.residual_function.4.num_batches_tracked', 'fc.weight', 'fc.bias'])\n",
            "/content/drive/MyDrive/ai-challenge/utils.py:71: FutureWarning: You are using `torch.load` with `weights_only=False` (the current default value), which uses the default pickle module implicitly. It is possible to construct malicious pickle data which will execute arbitrary code during unpickling (See https://github.com/pytorch/pytorch/blob/main/SECURITY.md#untrusted-models for more details). In a future release, the default value for `weights_only` will be flipped to `True`. This limits the functions that could be executed during unpickling. Arbitrary objects will no longer be allowed to be loaded via this mode unless they are explicitly allowlisted by the user via `torch.serialization.add_safe_globals`. We recommend you start setting `weights_only=True` for any use case where you don't have full control of the loaded file. Please open an issue on GitHub for any issues related to this experimental feature.\n",
            "  checkpoint = torch.load(os.path.join(ckpt_path, latest_checkpoint))\n",
            "Total number of trainable parameters: 99188\n",
            "100% 2813/2813 [00:28<00:00, 98.73it/s]\n",
            "Epoch [508/1000], Train Loss: 3.2234, Train Accuracy: 0.2979, Val Loss: 1.6569, Val Accuracy: 0.5634\n",
            "Model weights saved to weight/epoch_508.pth.\n",
            "100% 2813/2813 [00:28<00:00, 99.26it/s]\n",
            "Epoch [509/1000], Train Loss: 3.1383, Train Accuracy: 0.3086, Val Loss: 1.6908, Val Accuracy: 0.5604\n",
            "100% 2813/2813 [00:28<00:00, 98.80it/s] \n",
            "Epoch [510/1000], Train Loss: 3.0982, Train Accuracy: 0.3100, Val Loss: 1.6907, Val Accuracy: 0.5666\n",
            "Model weights saved to weight/epoch_510.pth.\n",
            "100% 2813/2813 [00:28<00:00, 99.90it/s]\n",
            "Epoch [511/1000], Train Loss: 3.0734, Train Accuracy: 0.3114, Val Loss: 1.6357, Val Accuracy: 0.5752\n",
            "Model weights saved to weight/epoch_511.pth.\n",
            "100% 2813/2813 [00:27<00:00, 101.37it/s]\n",
            "Epoch [512/1000], Train Loss: 3.0724, Train Accuracy: 0.3172, Val Loss: 1.6462, Val Accuracy: 0.5644\n",
            "100% 2813/2813 [00:27<00:00, 101.01it/s]\n",
            "Epoch [513/1000], Train Loss: 3.0613, Train Accuracy: 0.3152, Val Loss: 1.6367, Val Accuracy: 0.5758\n",
            "Model weights saved to weight/epoch_513.pth.\n",
            "100% 2813/2813 [00:27<00:00, 100.88it/s]\n",
            "Epoch [514/1000], Train Loss: 3.0777, Train Accuracy: 0.3155, Val Loss: 1.6299, Val Accuracy: 0.5786\n",
            "Model weights saved to weight/epoch_514.pth.\n",
            "100% 2813/2813 [00:28<00:00, 99.36it/s] \n",
            "Epoch [515/1000], Train Loss: 3.0493, Train Accuracy: 0.3267, Val Loss: 1.6486, Val Accuracy: 0.5764\n",
            "100% 2813/2813 [00:27<00:00, 101.79it/s]\n",
            "Epoch [516/1000], Train Loss: 3.0538, Train Accuracy: 0.3151, Val Loss: 1.6272, Val Accuracy: 0.5750\n",
            "100% 2813/2813 [00:27<00:00, 100.68it/s]\n",
            "Epoch [517/1000], Train Loss: 3.0343, Train Accuracy: 0.3249, Val Loss: 1.6345, Val Accuracy: 0.5738\n",
            "100% 2813/2813 [00:27<00:00, 101.61it/s]\n",
            "Epoch [518/1000], Train Loss: 3.0525, Train Accuracy: 0.3167, Val Loss: 1.6577, Val Accuracy: 0.5722\n",
            "100% 2813/2813 [00:28<00:00, 100.40it/s]\n",
            "Epoch [519/1000], Train Loss: 3.0322, Train Accuracy: 0.3241, Val Loss: 1.6169, Val Accuracy: 0.5772\n",
            "100% 2813/2813 [00:28<00:00, 98.54it/s] \n",
            "Epoch [520/1000], Train Loss: 3.0470, Train Accuracy: 0.3220, Val Loss: 1.6293, Val Accuracy: 0.5794\n",
            "Model weights saved to weight/epoch_520.pth.\n",
            "100% 2813/2813 [00:27<00:00, 100.86it/s]\n",
            "Epoch [521/1000], Train Loss: 3.0314, Train Accuracy: 0.3292, Val Loss: 1.6252, Val Accuracy: 0.5790\n",
            "100% 2813/2813 [00:27<00:00, 103.24it/s]\n",
            "Exception ignored in: <function _MultiProcessingDataLoaderIter.__del__ at 0x7aa63b662200>\n",
            "Traceback (most recent call last):\n",
            "  File \"/usr/local/lib/python3.10/dist-packages/torch/utils/data/dataloader.py\", line 1477, in __del__\n",
            "    self._shutdown_workers()\n",
            "  File \"/usr/local/lib/python3.10/dist-packages/torch/utils/data/dataloader.py\", line 1428, in _shutdown_workers\n",
            "    self._workers_done_event.set()\n",
            "  File \"/usr/lib/python3.10/multiprocessing/synchronize.py\", line 338, in set\n",
            "    self._cond.notify_all()\n",
            "  File \"/usr/lib/python3.10/multiprocessing/synchronize.py\", line 297, in notify_all\n",
            "    self.notify(n=sys.maxsize)\n",
            "  File \"/usr/lib/python3.10/multiprocessing/synchronize.py\", line 270, in notify\n",
            "    def notify(self, n=1):\n",
            "KeyboardInterrupt: \n",
            "Traceback (most recent call last):\n",
            "  File \"/content/drive/MyDrive/ai-challenge/train.py\", line 129, in <module>\n",
            "    val_loss, val_acc = evaluate(model, val_loader, criterion, device)\n",
            "  File \"/content/drive/MyDrive/ai-challenge/train.py\", line 83, in evaluate\n",
            "    outputs = model(images)\n",
            "  File \"/usr/local/lib/python3.10/dist-packages/torch/nn/modules/module.py\", line 1553, in _wrapped_call_impl\n",
            "    return self._call_impl(*args, **kwargs)\n",
            "  File \"/usr/local/lib/python3.10/dist-packages/torch/nn/modules/module.py\", line 1562, in _call_impl\n",
            "    return forward_call(*args, **kwargs)\n",
            "  File \"/content/drive/MyDrive/ai-challenge/model.py\", line 83, in forward\n",
            "    return self.fc(x)\n",
            "  File \"/usr/local/lib/python3.10/dist-packages/torch/nn/modules/module.py\", line 1553, in _wrapped_call_impl\n",
            "    return self._call_impl(*args, **kwargs)\n",
            "  File \"/usr/local/lib/python3.10/dist-packages/torch/nn/modules/module.py\", line 1562, in _call_impl\n",
            "    return forward_call(*args, **kwargs)\n",
            "  File \"/usr/local/lib/python3.10/dist-packages/torch/nn/modules/linear.py\", line 117, in forward\n",
            "    return F.linear(input, self.weight, self.bias)\n",
            "KeyboardInterrupt\n"
          ]
        }
      ]
    },
    {
      "cell_type": "code",
      "source": [
        "!python3 test.py"
      ],
      "metadata": {
        "id": "Xz8V6OuQb0Pl",
        "outputId": "3139bf91-be57-429f-ab1a-b8b33799f57f",
        "colab": {
          "base_uri": "https://localhost:8080/"
        }
      },
      "execution_count": null,
      "outputs": [
        {
          "output_type": "stream",
          "name": "stdout",
          "text": [
            "Total number of trainable parameters: 99188\n",
            "Loading checkpoint: epoch_207.pth\n",
            "/content/drive/MyDrive/ai-challenge/utils.py:58: FutureWarning: You are using `torch.load` with `weights_only=False` (the current default value), which uses the default pickle module implicitly. It is possible to construct malicious pickle data which will execute arbitrary code during unpickling (See https://github.com/pytorch/pytorch/blob/main/SECURITY.md#untrusted-models for more details). In a future release, the default value for `weights_only` will be flipped to `True`. This limits the functions that could be executed during unpickling. Arbitrary objects will no longer be allowed to be loaded via this mode unless they are explicitly allowlisted by the user via `torch.serialization.add_safe_globals`. We recommend you start setting `weights_only=True` for any use case where you don't have full control of the loaded file. Please open an issue on GitHub for any issues related to this experimental feature.\n",
            "  checkpoint = torch.load(os.path.join(ckpt_path, latest_checkpoint))\n",
            "odict_keys(['conv1.0.weight', 'conv1.1.weight', 'conv1.1.bias', 'conv1.1.running_mean', 'conv1.1.running_var', 'conv1.1.num_batches_tracked', 'conv3_x.0.residual_function.0.depthwise.weight', 'conv3_x.0.residual_function.0.pointwise.weight', 'conv3_x.0.residual_function.1.weight', 'conv3_x.0.residual_function.1.bias', 'conv3_x.0.residual_function.1.running_mean', 'conv3_x.0.residual_function.1.running_var', 'conv3_x.0.residual_function.1.num_batches_tracked', 'conv3_x.0.residual_function.3.depthwise.weight', 'conv3_x.0.residual_function.3.pointwise.weight', 'conv3_x.0.residual_function.4.weight', 'conv3_x.0.residual_function.4.bias', 'conv3_x.0.residual_function.4.running_mean', 'conv3_x.0.residual_function.4.running_var', 'conv3_x.0.residual_function.4.num_batches_tracked', 'conv3_x.0.shortcut.0.depthwise.weight', 'conv3_x.0.shortcut.0.pointwise.weight', 'conv3_x.0.shortcut.1.weight', 'conv3_x.0.shortcut.1.bias', 'conv3_x.0.shortcut.1.running_mean', 'conv3_x.0.shortcut.1.running_var', 'conv3_x.0.shortcut.1.num_batches_tracked', 'conv3_x.1.residual_function.0.depthwise.weight', 'conv3_x.1.residual_function.0.pointwise.weight', 'conv3_x.1.residual_function.1.weight', 'conv3_x.1.residual_function.1.bias', 'conv3_x.1.residual_function.1.running_mean', 'conv3_x.1.residual_function.1.running_var', 'conv3_x.1.residual_function.1.num_batches_tracked', 'conv3_x.1.residual_function.3.depthwise.weight', 'conv3_x.1.residual_function.3.pointwise.weight', 'conv3_x.1.residual_function.4.weight', 'conv3_x.1.residual_function.4.bias', 'conv3_x.1.residual_function.4.running_mean', 'conv3_x.1.residual_function.4.running_var', 'conv3_x.1.residual_function.4.num_batches_tracked', 'conv4_x.0.residual_function.0.depthwise.weight', 'conv4_x.0.residual_function.0.pointwise.weight', 'conv4_x.0.residual_function.1.weight', 'conv4_x.0.residual_function.1.bias', 'conv4_x.0.residual_function.1.running_mean', 'conv4_x.0.residual_function.1.running_var', 'conv4_x.0.residual_function.1.num_batches_tracked', 'conv4_x.0.residual_function.3.depthwise.weight', 'conv4_x.0.residual_function.3.pointwise.weight', 'conv4_x.0.residual_function.4.weight', 'conv4_x.0.residual_function.4.bias', 'conv4_x.0.residual_function.4.running_mean', 'conv4_x.0.residual_function.4.running_var', 'conv4_x.0.residual_function.4.num_batches_tracked', 'conv4_x.0.shortcut.0.depthwise.weight', 'conv4_x.0.shortcut.0.pointwise.weight', 'conv4_x.0.shortcut.1.weight', 'conv4_x.0.shortcut.1.bias', 'conv4_x.0.shortcut.1.running_mean', 'conv4_x.0.shortcut.1.running_var', 'conv4_x.0.shortcut.1.num_batches_tracked', 'conv5_x.0.residual_function.0.depthwise.weight', 'conv5_x.0.residual_function.0.pointwise.weight', 'conv5_x.0.residual_function.1.weight', 'conv5_x.0.residual_function.1.bias', 'conv5_x.0.residual_function.1.running_mean', 'conv5_x.0.residual_function.1.running_var', 'conv5_x.0.residual_function.1.num_batches_tracked', 'conv5_x.0.residual_function.3.depthwise.weight', 'conv5_x.0.residual_function.3.pointwise.weight', 'conv5_x.0.residual_function.4.weight', 'conv5_x.0.residual_function.4.bias', 'conv5_x.0.residual_function.4.running_mean', 'conv5_x.0.residual_function.4.running_var', 'conv5_x.0.residual_function.4.num_batches_tracked', 'conv5_x.0.shortcut.0.depthwise.weight', 'conv5_x.0.shortcut.0.pointwise.weight', 'conv5_x.0.shortcut.1.weight', 'conv5_x.0.shortcut.1.bias', 'conv5_x.0.shortcut.1.running_mean', 'conv5_x.0.shortcut.1.running_var', 'conv5_x.0.shortcut.1.num_batches_tracked', 'conv5_x.1.residual_function.0.depthwise.weight', 'conv5_x.1.residual_function.0.pointwise.weight', 'conv5_x.1.residual_function.1.weight', 'conv5_x.1.residual_function.1.bias', 'conv5_x.1.residual_function.1.running_mean', 'conv5_x.1.residual_function.1.running_var', 'conv5_x.1.residual_function.1.num_batches_tracked', 'conv5_x.1.residual_function.3.depthwise.weight', 'conv5_x.1.residual_function.3.pointwise.weight', 'conv5_x.1.residual_function.4.weight', 'conv5_x.1.residual_function.4.bias', 'conv5_x.1.residual_function.4.running_mean', 'conv5_x.1.residual_function.4.running_var', 'conv5_x.1.residual_function.4.num_batches_tracked', 'fc.weight', 'fc.bias'])\n",
            "/content/drive/MyDrive/ai-challenge/utils.py:61: FutureWarning: You are using `torch.load` with `weights_only=False` (the current default value), which uses the default pickle module implicitly. It is possible to construct malicious pickle data which will execute arbitrary code during unpickling (See https://github.com/pytorch/pytorch/blob/main/SECURITY.md#untrusted-models for more details). In a future release, the default value for `weights_only` will be flipped to `True`. This limits the functions that could be executed during unpickling. Arbitrary objects will no longer be allowed to be loaded via this mode unless they are explicitly allowlisted by the user via `torch.serialization.add_safe_globals`. We recommend you start setting `weights_only=True` for any use case where you don't have full control of the loaded file. Please open an issue on GitHub for any issues related to this experimental feature.\n",
            "  checkpoint = torch.load(os.path.join(ckpt_path, latest_checkpoint))\n",
            "Test predictions saved to 'result/test_predictions.csv'.\n"
          ]
        }
      ]
    }
  ],
  "metadata": {
    "kernelspec": {
      "display_name": "Python 3",
      "name": "python3"
    },
    "language_info": {
      "codemirror_mode": {
        "name": "ipython",
        "version": 3
      },
      "file_extension": ".py",
      "mimetype": "text/x-python",
      "name": "python",
      "nbconvert_exporter": "python",
      "pygments_lexer": "ipython3",
      "version": "3.9.12"
    },
    "colab": {
      "provenance": [],
      "gpuType": "L4",
      "machine_shape": "hm",
      "include_colab_link": true
    },
    "accelerator": "GPU"
  },
  "nbformat": 4,
  "nbformat_minor": 0
}