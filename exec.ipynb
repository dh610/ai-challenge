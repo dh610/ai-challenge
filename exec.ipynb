{
  "cells": [
    {
      "cell_type": "markdown",
      "metadata": {
        "id": "view-in-github",
        "colab_type": "text"
      },
      "source": [
        "<a href=\"https://colab.research.google.com/github/dh610/ai-challenge/blob/main/exec.ipynb\" target=\"_parent\"><img src=\"https://colab.research.google.com/assets/colab-badge.svg\" alt=\"Open In Colab\"/></a>"
      ]
    },
    {
      "cell_type": "code",
      "source": [
        "from google.colab import drive\n",
        "drive.mount('/content/drive')\n",
        "\n",
        "#!pip install colab_ssh --upgrade\n",
        "\n",
        "#from colab_ssh import launch_ssh_cloudflared, init_git_cloudflared\n",
        "#launch_ssh_cloudflared(password=\"1234\")"
      ],
      "metadata": {
        "colab": {
          "base_uri": "https://localhost:8080/"
        },
        "id": "3LeERkBIL1j8",
        "outputId": "7474bb2c-e876-4150-832d-208dfa872277"
      },
      "execution_count": 1,
      "outputs": [
        {
          "output_type": "stream",
          "name": "stdout",
          "text": [
            "Mounted at /content/drive\n"
          ]
        }
      ]
    },
    {
      "cell_type": "code",
      "source": [
        "import sys\n",
        "import os\n",
        "\n",
        "os.chdir(\"/content/drive/MyDrive/ai-challenge/\")"
      ],
      "metadata": {
        "id": "kr8sQ0b2QVsK"
      },
      "execution_count": 2,
      "outputs": []
    },
    {
      "cell_type": "code",
      "source": [
        "!git pull"
      ],
      "metadata": {
        "id": "i1VL3xz_QaiT",
        "outputId": "00ecdb0f-cdd9-4e3a-8e85-919dc09e6056",
        "colab": {
          "base_uri": "https://localhost:8080/"
        }
      },
      "execution_count": 45,
      "outputs": [
        {
          "output_type": "stream",
          "name": "stdout",
          "text": [
            "remote: Enumerating objects: 5, done.\u001b[K\n",
            "remote: Counting objects:  20% (1/5)\u001b[K\rremote: Counting objects:  40% (2/5)\u001b[K\rremote: Counting objects:  60% (3/5)\u001b[K\rremote: Counting objects:  80% (4/5)\u001b[K\rremote: Counting objects: 100% (5/5)\u001b[K\rremote: Counting objects: 100% (5/5), done.\u001b[K\n",
            "remote: Compressing objects: 100% (1/1)\u001b[K\rremote: Compressing objects: 100% (1/1), done.\u001b[K\n",
            "remote: Total 3 (delta 2), reused 3 (delta 2), pack-reused 0 (from 0)\u001b[K\n",
            "Unpacking objects:  33% (1/3)\rUnpacking objects:  66% (2/3)\rUnpacking objects: 100% (3/3)\rUnpacking objects: 100% (3/3), 267 bytes | 6.00 KiB/s, done.\n",
            "From https://github.com/dh610/ai-challenge\n",
            "   b9332bd..ca19ead  main       -> origin/main\n",
            "Updating b9332bd..ca19ead\n",
            "Fast-forward\n",
            " train.py | 1 \u001b[32m+\u001b[m\n",
            " 1 file changed, 1 insertion(+)\n"
          ]
        }
      ]
    },
    {
      "cell_type": "code",
      "source": [
        "!python3 train.py"
      ],
      "metadata": {
        "id": "v-epJXo4Bb7h",
        "outputId": "4951b55c-7a52-46bb-9cba-3694b066c6a8",
        "colab": {
          "base_uri": "https://localhost:8080/"
        }
      },
      "execution_count": 44,
      "outputs": [
        {
          "output_type": "stream",
          "name": "stdout",
          "text": [
            "100% 3125/3125 [00:08<00:00, 357.35it/s]\n",
            "Epoch [1/10], Train Loss: 4.2987\n",
            "100% 3125/3125 [00:08<00:00, 370.57it/s]\n",
            "Epoch [2/10], Train Loss: 3.8529\n",
            "100% 3125/3125 [00:08<00:00, 369.97it/s]\n",
            "Epoch [3/10], Train Loss: 3.6643\n",
            "100% 3125/3125 [00:08<00:00, 371.97it/s]\n",
            "Epoch [4/10], Train Loss: 3.5050\n",
            "100% 3125/3125 [00:08<00:00, 376.92it/s]\n",
            "Epoch [5/10], Train Loss: 3.3470\n",
            "100% 3125/3125 [00:08<00:00, 368.60it/s]\n",
            "Epoch [6/10], Train Loss: 3.1790\n",
            "100% 3125/3125 [00:08<00:00, 370.22it/s]\n",
            "Epoch [7/10], Train Loss: 3.0400\n",
            "100% 3125/3125 [00:08<00:00, 368.78it/s]\n",
            "Epoch [8/10], Train Loss: 2.9257\n",
            "100% 3125/3125 [00:08<00:00, 367.31it/s]\n",
            "Epoch [9/10], Train Loss: 2.8403\n",
            "100% 3125/3125 [00:08<00:00, 371.32it/s]\n",
            "Epoch [10/10], Train Loss: 2.7886\n",
            "Model weights saved to /content/drive/MyDrive/ai-challenge/weight/final_model_weights.pth.\n",
            "Traceback (most recent call last):\n",
            "  File \"/content/drive/MyDrive/ai-challenge/train.py\", line 73, in <module>\n",
            "    outputs = model(images)\n",
            "  File \"/usr/local/lib/python3.10/dist-packages/torch/nn/modules/module.py\", line 1553, in _wrapped_call_impl\n",
            "    return self._call_impl(*args, **kwargs)\n",
            "  File \"/usr/local/lib/python3.10/dist-packages/torch/nn/modules/module.py\", line 1562, in _call_impl\n",
            "    return forward_call(*args, **kwargs)\n",
            "  File \"/content/drive/MyDrive/ai-challenge/model.py\", line 16, in forward\n",
            "    x = self.pool(self.relu(self.conv1(x)))\n",
            "  File \"/usr/local/lib/python3.10/dist-packages/torch/nn/modules/module.py\", line 1553, in _wrapped_call_impl\n",
            "    return self._call_impl(*args, **kwargs)\n",
            "  File \"/usr/local/lib/python3.10/dist-packages/torch/nn/modules/module.py\", line 1562, in _call_impl\n",
            "    return forward_call(*args, **kwargs)\n",
            "  File \"/usr/local/lib/python3.10/dist-packages/torch/nn/modules/conv.py\", line 458, in forward\n",
            "    return self._conv_forward(input, self.weight, self.bias)\n",
            "  File \"/usr/local/lib/python3.10/dist-packages/torch/nn/modules/conv.py\", line 454, in _conv_forward\n",
            "    return F.conv2d(input, weight, bias, self.stride,\n",
            "RuntimeError: Given groups=1, weight of size [16, 3, 3, 3], expected input[16, 32, 32, 3] to have 3 channels, but got 32 channels instead\n"
          ]
        }
      ]
    }
  ],
  "metadata": {
    "kernelspec": {
      "display_name": "Python 3",
      "name": "python3"
    },
    "language_info": {
      "codemirror_mode": {
        "name": "ipython",
        "version": 3
      },
      "file_extension": ".py",
      "mimetype": "text/x-python",
      "name": "python",
      "nbconvert_exporter": "python",
      "pygments_lexer": "ipython3",
      "version": "3.9.12"
    },
    "colab": {
      "provenance": [],
      "machine_shape": "hm",
      "gpuType": "A100",
      "include_colab_link": true
    },
    "accelerator": "GPU"
  },
  "nbformat": 4,
  "nbformat_minor": 0
}