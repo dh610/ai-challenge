{
  "cells": [
    {
      "cell_type": "markdown",
      "metadata": {
        "id": "view-in-github",
        "colab_type": "text"
      },
      "source": [
        "<a href=\"https://colab.research.google.com/github/dh610/ai-challenge/blob/main/exec.ipynb\" target=\"_parent\"><img src=\"https://colab.research.google.com/assets/colab-badge.svg\" alt=\"Open In Colab\"/></a>"
      ]
    },
    {
      "cell_type": "code",
      "source": [
        "from google.colab import drive\n",
        "drive.mount('/content/drive')"
      ],
      "metadata": {
        "colab": {
          "base_uri": "https://localhost:8080/"
        },
        "id": "3LeERkBIL1j8",
        "outputId": "4cd10af6-2e1e-475b-a30c-e77601f019b5"
      },
      "execution_count": 1,
      "outputs": [
        {
          "output_type": "stream",
          "name": "stdout",
          "text": [
            "Mounted at /content/drive\n"
          ]
        }
      ]
    },
    {
      "cell_type": "code",
      "source": [
        "import sys\n",
        "import os\n",
        "\n",
        "os.chdir(\"/content/drive/MyDrive/ai-challenge/\")\n",
        "!git pull"
      ],
      "metadata": {
        "id": "kr8sQ0b2QVsK",
        "outputId": "a0ba0642-4dff-4ce3-c24d-67d2abdb6800",
        "colab": {
          "base_uri": "https://localhost:8080/"
        }
      },
      "execution_count": 6,
      "outputs": [
        {
          "output_type": "stream",
          "name": "stdout",
          "text": [
            "remote: Enumerating objects: 5, done.\u001b[K\n",
            "remote: Counting objects:  20% (1/5)\u001b[K\rremote: Counting objects:  40% (2/5)\u001b[K\rremote: Counting objects:  60% (3/5)\u001b[K\rremote: Counting objects:  80% (4/5)\u001b[K\rremote: Counting objects: 100% (5/5)\u001b[K\rremote: Counting objects: 100% (5/5), done.\u001b[K\n",
            "remote: Compressing objects: 100% (1/1)\u001b[K\rremote: Compressing objects: 100% (1/1), done.\u001b[K\n",
            "remote: Total 3 (delta 2), reused 3 (delta 2), pack-reused 0 (from 0)\u001b[K\n",
            "Unpacking objects: 100% (3/3), 270 bytes | 0 bytes/s, done.\n",
            "From https://github.com/dh610/ai-challenge\n",
            "   86968cf..8107f57  main       -> origin/main\n",
            "Updating 86968cf..8107f57\n",
            "Fast-forward\n",
            " model.py | 2 \u001b[32m+\u001b[m\u001b[31m-\u001b[m\n",
            " 1 file changed, 1 insertion(+), 1 deletion(-)\n"
          ]
        }
      ]
    },
    {
      "cell_type": "code",
      "source": [
        "!python3 train.py"
      ],
      "metadata": {
        "id": "v-epJXo4Bb7h",
        "outputId": "984409ab-f3db-496a-cfca-d392a5ec9c6b",
        "colab": {
          "base_uri": "https://localhost:8080/"
        }
      },
      "execution_count": 7,
      "outputs": [
        {
          "output_type": "stream",
          "name": "stdout",
          "text": [
            "Total number of trainable parameters: 99188\n",
            "100% 2813/2813 [00:26<00:00, 105.36it/s]\n",
            "Epoch [1/500], Train Loss: 3.7385, Train Accuracy: 0.1284, Val Loss: 3.1991, Val Accuracy: 0.2150\n",
            "100% 2813/2813 [00:26<00:00, 107.81it/s]\n",
            "Epoch [2/500], Train Loss: 3.1042, Train Accuracy: 0.2351, Val Loss: 2.8258, Val Accuracy: 0.2910\n",
            "100% 2813/2813 [00:26<00:00, 107.30it/s]\n",
            "Epoch [3/500], Train Loss: 2.7722, Train Accuracy: 0.2983, Val Loss: 2.6296, Val Accuracy: 0.3246\n",
            "100% 2813/2813 [00:26<00:00, 107.07it/s]\n",
            "Epoch [4/500], Train Loss: 2.5475, Train Accuracy: 0.3438, Val Loss: 2.4418, Val Accuracy: 0.3622\n",
            "100% 2813/2813 [00:26<00:00, 105.63it/s]\n",
            "Epoch [5/500], Train Loss: 2.3921, Train Accuracy: 0.3738, Val Loss: 2.3409, Val Accuracy: 0.3818\n",
            "100% 2813/2813 [00:26<00:00, 107.56it/s]\n",
            "Epoch [6/500], Train Loss: 2.2665, Train Accuracy: 0.4018, Val Loss: 2.2247, Val Accuracy: 0.4114\n",
            "100% 2813/2813 [00:26<00:00, 105.74it/s]\n",
            "Epoch [7/500], Train Loss: 2.1529, Train Accuracy: 0.4280, Val Loss: 2.1900, Val Accuracy: 0.4210\n",
            "100% 2813/2813 [00:26<00:00, 106.70it/s]\n",
            "Epoch [8/500], Train Loss: 2.0700, Train Accuracy: 0.4474, Val Loss: 2.0952, Val Accuracy: 0.4358\n",
            "100% 2813/2813 [00:26<00:00, 107.12it/s]\n",
            "Epoch [9/500], Train Loss: 1.9871, Train Accuracy: 0.4653, Val Loss: 2.0411, Val Accuracy: 0.4562\n",
            "100% 2813/2813 [00:26<00:00, 107.68it/s]\n",
            "Epoch [10/500], Train Loss: 1.9157, Train Accuracy: 0.4821, Val Loss: 2.0209, Val Accuracy: 0.4582\n",
            "100% 2813/2813 [00:25<00:00, 109.80it/s]\n",
            "Epoch [11/500], Train Loss: 1.8573, Train Accuracy: 0.4934, Val Loss: 1.9838, Val Accuracy: 0.4682\n",
            "100% 2813/2813 [00:26<00:00, 108.08it/s]\n",
            "Epoch [12/500], Train Loss: 1.8037, Train Accuracy: 0.5051, Val Loss: 1.9700, Val Accuracy: 0.4790\n",
            "100% 2813/2813 [00:25<00:00, 108.68it/s]\n",
            "Epoch [13/500], Train Loss: 1.7425, Train Accuracy: 0.5230, Val Loss: 1.9297, Val Accuracy: 0.4926\n",
            "100% 2813/2813 [00:26<00:00, 107.12it/s]\n",
            "Epoch [14/500], Train Loss: 1.7050, Train Accuracy: 0.5296, Val Loss: 1.9111, Val Accuracy: 0.4876\n",
            "100% 2813/2813 [00:26<00:00, 107.64it/s]\n",
            "Epoch [15/500], Train Loss: 1.6541, Train Accuracy: 0.5421, Val Loss: 1.8979, Val Accuracy: 0.4878\n",
            "100% 2813/2813 [00:26<00:00, 106.67it/s]\n",
            "Epoch [16/500], Train Loss: 1.6194, Train Accuracy: 0.5497, Val Loss: 1.9421, Val Accuracy: 0.4746\n",
            "100% 2813/2813 [00:26<00:00, 106.55it/s]\n",
            "Epoch [17/500], Train Loss: 1.5773, Train Accuracy: 0.5610, Val Loss: 1.9176, Val Accuracy: 0.4924\n",
            "100% 2813/2813 [00:26<00:00, 105.25it/s]\n",
            "Epoch [18/500], Train Loss: 1.5459, Train Accuracy: 0.5673, Val Loss: 1.9049, Val Accuracy: 0.4888\n",
            "100% 2813/2813 [00:26<00:00, 106.86it/s]\n",
            "Epoch [19/500], Train Loss: 1.5158, Train Accuracy: 0.5752, Val Loss: 1.9202, Val Accuracy: 0.4898\n",
            "100% 2813/2813 [00:26<00:00, 106.83it/s]\n",
            "Epoch [20/500], Train Loss: 1.4775, Train Accuracy: 0.5850, Val Loss: 1.9066, Val Accuracy: 0.5030\n",
            "100% 2813/2813 [00:26<00:00, 108.17it/s]\n",
            "Epoch [21/500], Train Loss: 1.4522, Train Accuracy: 0.5906, Val Loss: 1.9074, Val Accuracy: 0.4940\n",
            "100% 2813/2813 [00:26<00:00, 106.33it/s]\n",
            "Epoch [22/500], Train Loss: 1.4323, Train Accuracy: 0.5951, Val Loss: 1.8922, Val Accuracy: 0.4914\n",
            "100% 2813/2813 [00:26<00:00, 106.38it/s]\n",
            "Epoch [23/500], Train Loss: 1.3990, Train Accuracy: 0.6037, Val Loss: 1.8710, Val Accuracy: 0.5092\n",
            "100% 2813/2813 [00:25<00:00, 108.47it/s]\n",
            "Epoch [24/500], Train Loss: 1.3724, Train Accuracy: 0.6091, Val Loss: 1.9008, Val Accuracy: 0.5042\n",
            "100% 2813/2813 [00:25<00:00, 109.05it/s]\n",
            "Epoch [25/500], Train Loss: 1.3505, Train Accuracy: 0.6136, Val Loss: 1.8986, Val Accuracy: 0.5070\n",
            "100% 2813/2813 [00:26<00:00, 105.02it/s]\n",
            "Epoch [26/500], Train Loss: 1.3307, Train Accuracy: 0.6197, Val Loss: 1.9149, Val Accuracy: 0.5014\n",
            "100% 2813/2813 [00:25<00:00, 108.27it/s]\n",
            "Epoch [27/500], Train Loss: 1.3117, Train Accuracy: 0.6210, Val Loss: 1.9477, Val Accuracy: 0.4976\n",
            "100% 2813/2813 [00:25<00:00, 108.56it/s]\n",
            "Epoch [28/500], Train Loss: 1.2864, Train Accuracy: 0.6289, Val Loss: 1.9492, Val Accuracy: 0.5066\n",
            "100% 2813/2813 [00:26<00:00, 107.03it/s]\n",
            "Epoch [29/500], Train Loss: 1.2675, Train Accuracy: 0.6339, Val Loss: 1.8916, Val Accuracy: 0.5076\n",
            "100% 2813/2813 [00:26<00:00, 108.12it/s]\n",
            "Epoch [30/500], Train Loss: 1.2523, Train Accuracy: 0.6391, Val Loss: 1.9302, Val Accuracy: 0.5064\n",
            "100% 2813/2813 [00:26<00:00, 106.87it/s]\n",
            "Epoch [31/500], Train Loss: 1.2329, Train Accuracy: 0.6440, Val Loss: 1.9323, Val Accuracy: 0.5058\n",
            "100% 2813/2813 [00:25<00:00, 108.63it/s]\n",
            "Epoch [32/500], Train Loss: 1.2128, Train Accuracy: 0.6467, Val Loss: 1.9410, Val Accuracy: 0.5036\n",
            "100% 2813/2813 [00:26<00:00, 107.88it/s]\n",
            "Epoch [33/500], Train Loss: 1.1997, Train Accuracy: 0.6482, Val Loss: 1.9402, Val Accuracy: 0.5104\n",
            "100% 2813/2813 [00:25<00:00, 109.35it/s]\n",
            "Epoch [34/500], Train Loss: 1.1838, Train Accuracy: 0.6535, Val Loss: 1.9769, Val Accuracy: 0.5056\n",
            "100% 2813/2813 [00:25<00:00, 108.78it/s]\n",
            "Epoch [35/500], Train Loss: 1.1780, Train Accuracy: 0.6562, Val Loss: 2.0015, Val Accuracy: 0.4984\n",
            "100% 2813/2813 [00:26<00:00, 104.65it/s]\n",
            "Epoch [36/500], Train Loss: 1.1543, Train Accuracy: 0.6618, Val Loss: 1.9772, Val Accuracy: 0.5030\n",
            "100% 2813/2813 [00:26<00:00, 106.95it/s]\n",
            "Epoch [37/500], Train Loss: 1.1455, Train Accuracy: 0.6655, Val Loss: 1.9895, Val Accuracy: 0.4978\n",
            "100% 2813/2813 [00:26<00:00, 107.81it/s]\n",
            "Epoch [38/500], Train Loss: 1.1251, Train Accuracy: 0.6699, Val Loss: 1.9562, Val Accuracy: 0.5038\n",
            "100% 2813/2813 [00:26<00:00, 107.41it/s]\n",
            "Epoch [39/500], Train Loss: 1.1249, Train Accuracy: 0.6704, Val Loss: 2.0035, Val Accuracy: 0.5008\n",
            "100% 2813/2813 [00:26<00:00, 106.68it/s]\n",
            "Epoch [40/500], Train Loss: 1.1097, Train Accuracy: 0.6732, Val Loss: 1.9700, Val Accuracy: 0.5038\n",
            "100% 2813/2813 [00:26<00:00, 104.79it/s]\n",
            "Epoch [41/500], Train Loss: 1.0970, Train Accuracy: 0.6776, Val Loss: 1.9732, Val Accuracy: 0.5030\n",
            "100% 2813/2813 [00:26<00:00, 107.13it/s]\n",
            "Epoch [42/500], Train Loss: 1.0823, Train Accuracy: 0.6813, Val Loss: 1.9935, Val Accuracy: 0.5030\n",
            "100% 2813/2813 [00:26<00:00, 106.97it/s]\n",
            "Epoch [43/500], Train Loss: 1.0731, Train Accuracy: 0.6811, Val Loss: 1.9923, Val Accuracy: 0.5076\n",
            "100% 2813/2813 [00:26<00:00, 106.98it/s]\n",
            "Epoch [44/500], Train Loss: 1.0659, Train Accuracy: 0.6843, Val Loss: 2.0428, Val Accuracy: 0.5024\n",
            "100% 2813/2813 [00:26<00:00, 107.79it/s]\n",
            "Epoch [45/500], Train Loss: 1.0555, Train Accuracy: 0.6868, Val Loss: 2.0391, Val Accuracy: 0.5042\n",
            "100% 2813/2813 [00:26<00:00, 106.62it/s]\n",
            "Epoch [46/500], Train Loss: 1.0407, Train Accuracy: 0.6887, Val Loss: 1.9854, Val Accuracy: 0.5104\n",
            "100% 2813/2813 [00:26<00:00, 106.51it/s]\n",
            "Epoch [47/500], Train Loss: 1.0346, Train Accuracy: 0.6943, Val Loss: 1.9835, Val Accuracy: 0.5062\n",
            "100% 2813/2813 [00:26<00:00, 107.67it/s]\n",
            "Epoch [48/500], Train Loss: 1.0295, Train Accuracy: 0.6932, Val Loss: 2.0547, Val Accuracy: 0.4986\n",
            "100% 2813/2813 [00:26<00:00, 106.79it/s]\n",
            "Epoch [49/500], Train Loss: 1.0172, Train Accuracy: 0.6970, Val Loss: 2.0355, Val Accuracy: 0.5032\n",
            "100% 2813/2813 [00:26<00:00, 105.76it/s]\n",
            "Epoch [50/500], Train Loss: 1.0212, Train Accuracy: 0.6955, Val Loss: 2.0504, Val Accuracy: 0.4960\n",
            "100% 2813/2813 [00:26<00:00, 106.26it/s]\n",
            "Epoch [51/500], Train Loss: 1.0074, Train Accuracy: 0.6996, Val Loss: 2.0137, Val Accuracy: 0.5070\n",
            "100% 2813/2813 [00:26<00:00, 106.76it/s]\n",
            "Epoch [52/500], Train Loss: 0.9947, Train Accuracy: 0.7016, Val Loss: 2.0243, Val Accuracy: 0.5080\n",
            "Model weights saved to weight/epoch_52.pth.\n",
            "100% 2813/2813 [00:26<00:00, 105.80it/s]\n",
            "Epoch [53/500], Train Loss: 0.9910, Train Accuracy: 0.7027, Val Loss: 2.0671, Val Accuracy: 0.4966\n",
            "100% 2813/2813 [00:26<00:00, 106.02it/s]\n",
            "Epoch [54/500], Train Loss: 0.9869, Train Accuracy: 0.7048, Val Loss: 2.0605, Val Accuracy: 0.4984\n",
            "100% 2813/2813 [00:26<00:00, 105.45it/s]\n",
            "Epoch [55/500], Train Loss: 0.9746, Train Accuracy: 0.7073, Val Loss: 2.0251, Val Accuracy: 0.5104\n",
            "100% 2813/2813 [00:26<00:00, 106.49it/s]\n",
            "Epoch [56/500], Train Loss: 0.9687, Train Accuracy: 0.7076, Val Loss: 2.1032, Val Accuracy: 0.4954\n",
            "100% 2813/2813 [00:25<00:00, 108.89it/s]\n",
            "Epoch [57/500], Train Loss: 0.9612, Train Accuracy: 0.7100, Val Loss: 2.0938, Val Accuracy: 0.4980\n",
            "100% 2813/2813 [00:25<00:00, 108.36it/s]\n",
            "Epoch [58/500], Train Loss: 0.9651, Train Accuracy: 0.7107, Val Loss: 2.0463, Val Accuracy: 0.4990\n",
            "100% 2813/2813 [00:26<00:00, 106.78it/s]\n",
            "Epoch [59/500], Train Loss: 0.9524, Train Accuracy: 0.7138, Val Loss: 2.0498, Val Accuracy: 0.5102\n",
            "100% 2813/2813 [00:26<00:00, 105.54it/s]\n",
            "Epoch [60/500], Train Loss: 0.9409, Train Accuracy: 0.7167, Val Loss: 2.1038, Val Accuracy: 0.4986\n",
            "100% 2813/2813 [00:26<00:00, 106.63it/s]\n",
            "Epoch [61/500], Train Loss: 0.9428, Train Accuracy: 0.7170, Val Loss: 2.1048, Val Accuracy: 0.5066\n",
            "100% 2813/2813 [00:26<00:00, 106.98it/s]\n",
            "Epoch [62/500], Train Loss: 0.9396, Train Accuracy: 0.7159, Val Loss: 2.1120, Val Accuracy: 0.4996\n",
            "100% 2813/2813 [00:25<00:00, 109.43it/s]\n",
            "Epoch [63/500], Train Loss: 0.9315, Train Accuracy: 0.7183, Val Loss: 2.1232, Val Accuracy: 0.5022\n",
            "100% 2813/2813 [00:26<00:00, 106.82it/s]\n",
            "Epoch [64/500], Train Loss: 0.9312, Train Accuracy: 0.7174, Val Loss: 2.0920, Val Accuracy: 0.5074\n",
            "100% 2813/2813 [00:26<00:00, 107.19it/s]\n",
            "Epoch [65/500], Train Loss: 0.9196, Train Accuracy: 0.7236, Val Loss: 2.1216, Val Accuracy: 0.4988\n",
            "100% 2813/2813 [00:26<00:00, 107.82it/s]\n",
            "Epoch [66/500], Train Loss: 0.9182, Train Accuracy: 0.7242, Val Loss: 2.1018, Val Accuracy: 0.4972\n",
            "100% 2813/2813 [00:25<00:00, 109.50it/s]\n",
            "Epoch [67/500], Train Loss: 0.9118, Train Accuracy: 0.7227, Val Loss: 2.1442, Val Accuracy: 0.4860\n",
            "100% 2813/2813 [00:26<00:00, 106.29it/s]\n",
            "Epoch [68/500], Train Loss: 0.9062, Train Accuracy: 0.7250, Val Loss: 2.1210, Val Accuracy: 0.5042\n",
            "100% 2813/2813 [00:26<00:00, 104.82it/s]\n",
            "Epoch [69/500], Train Loss: 0.8970, Train Accuracy: 0.7291, Val Loss: 2.1074, Val Accuracy: 0.4950\n",
            "100% 2813/2813 [00:26<00:00, 107.13it/s]\n",
            "Epoch [70/500], Train Loss: 0.8903, Train Accuracy: 0.7318, Val Loss: 2.1295, Val Accuracy: 0.4970\n",
            "100% 2813/2813 [00:26<00:00, 105.31it/s]\n",
            "Epoch [71/500], Train Loss: 0.8915, Train Accuracy: 0.7304, Val Loss: 2.1255, Val Accuracy: 0.4986\n",
            "100% 2813/2813 [00:26<00:00, 107.33it/s]\n",
            "Epoch [72/500], Train Loss: 0.8846, Train Accuracy: 0.7314, Val Loss: 2.1304, Val Accuracy: 0.5038\n",
            "100% 2813/2813 [00:26<00:00, 108.12it/s]\n",
            "Epoch [73/500], Train Loss: 0.8905, Train Accuracy: 0.7300, Val Loss: 2.1290, Val Accuracy: 0.5092\n",
            "100% 2813/2813 [00:26<00:00, 105.08it/s]\n",
            "Epoch [74/500], Train Loss: 0.8791, Train Accuracy: 0.7319, Val Loss: 2.1901, Val Accuracy: 0.4844\n",
            "100% 2813/2813 [00:26<00:00, 105.14it/s]\n",
            "Epoch [75/500], Train Loss: 0.8878, Train Accuracy: 0.7296, Val Loss: 2.1159, Val Accuracy: 0.4998\n",
            "100% 2813/2813 [00:26<00:00, 106.29it/s]\n",
            "Epoch [76/500], Train Loss: 0.8764, Train Accuracy: 0.7319, Val Loss: 2.1317, Val Accuracy: 0.4910\n",
            "100% 2813/2813 [00:26<00:00, 105.52it/s]\n",
            "Epoch [77/500], Train Loss: 0.8614, Train Accuracy: 0.7360, Val Loss: 2.1214, Val Accuracy: 0.5010\n",
            "100% 2813/2813 [00:25<00:00, 108.72it/s]\n",
            "Epoch [78/500], Train Loss: 0.8738, Train Accuracy: 0.7330, Val Loss: 2.1533, Val Accuracy: 0.4888\n",
            "100% 2813/2813 [00:26<00:00, 107.78it/s]\n",
            "Epoch [79/500], Train Loss: 0.8624, Train Accuracy: 0.7365, Val Loss: 2.1883, Val Accuracy: 0.4952\n",
            "100% 2813/2813 [00:26<00:00, 107.28it/s]\n",
            "Epoch [80/500], Train Loss: 0.8589, Train Accuracy: 0.7379, Val Loss: 2.1842, Val Accuracy: 0.4902\n",
            "100% 2813/2813 [00:26<00:00, 105.23it/s]\n",
            "Epoch [81/500], Train Loss: 0.8589, Train Accuracy: 0.7386, Val Loss: 2.1617, Val Accuracy: 0.5002\n",
            "100% 2813/2813 [00:26<00:00, 105.74it/s]\n",
            "Epoch [82/500], Train Loss: 0.8569, Train Accuracy: 0.7398, Val Loss: 2.2083, Val Accuracy: 0.4918\n",
            "100% 2813/2813 [00:26<00:00, 106.87it/s]\n",
            "Epoch [83/500], Train Loss: 0.8528, Train Accuracy: 0.7407, Val Loss: 2.1701, Val Accuracy: 0.5012\n",
            "100% 2813/2813 [00:27<00:00, 103.18it/s]\n",
            "Epoch [84/500], Train Loss: 0.8474, Train Accuracy: 0.7411, Val Loss: 2.1347, Val Accuracy: 0.4956\n",
            "100% 2813/2813 [00:25<00:00, 108.71it/s]\n",
            "Epoch [85/500], Train Loss: 0.8487, Train Accuracy: 0.7434, Val Loss: 2.1787, Val Accuracy: 0.4950\n",
            "100% 2813/2813 [00:26<00:00, 105.93it/s]\n",
            "Epoch [86/500], Train Loss: 0.8511, Train Accuracy: 0.7379, Val Loss: 2.1321, Val Accuracy: 0.5020\n",
            "100% 2813/2813 [00:26<00:00, 107.68it/s]\n",
            "Epoch [87/500], Train Loss: 0.8495, Train Accuracy: 0.7421, Val Loss: 2.1146, Val Accuracy: 0.5024\n",
            "100% 2813/2813 [00:26<00:00, 108.11it/s]\n",
            "Epoch [88/500], Train Loss: 0.8441, Train Accuracy: 0.7437, Val Loss: 2.1693, Val Accuracy: 0.4924\n",
            "100% 2813/2813 [00:27<00:00, 101.85it/s]\n",
            "Epoch [89/500], Train Loss: 0.8373, Train Accuracy: 0.7438, Val Loss: 2.1886, Val Accuracy: 0.4920\n",
            "100% 2813/2813 [00:26<00:00, 107.00it/s]\n",
            "Epoch [90/500], Train Loss: 0.8304, Train Accuracy: 0.7470, Val Loss: 2.1870, Val Accuracy: 0.4912\n",
            "100% 2813/2813 [00:26<00:00, 107.12it/s]\n",
            "Epoch [91/500], Train Loss: 0.8335, Train Accuracy: 0.7454, Val Loss: 2.1677, Val Accuracy: 0.4996\n",
            "100% 2813/2813 [00:26<00:00, 105.39it/s]\n",
            "Epoch [92/500], Train Loss: 0.8345, Train Accuracy: 0.7453, Val Loss: 2.1416, Val Accuracy: 0.5028\n",
            "100% 2813/2813 [00:26<00:00, 105.17it/s]\n",
            "Epoch [93/500], Train Loss: 0.8285, Train Accuracy: 0.7459, Val Loss: 2.1982, Val Accuracy: 0.4902\n",
            "100% 2813/2813 [00:26<00:00, 106.50it/s]\n",
            "Epoch [94/500], Train Loss: 0.8287, Train Accuracy: 0.7478, Val Loss: 2.1978, Val Accuracy: 0.4928\n",
            " 25% 695/2813 [00:06<00:19, 110.16it/s]Exception ignored in: <function _MultiProcessingDataLoaderIter.__del__ at 0x7cf1747fe0e0>\n",
            "Traceback (most recent call last):\n",
            "  File \"/usr/local/lib/python3.10/dist-packages/torch/utils/data/dataloader.py\", line 1477, in __del__\n",
            "    self._shutdown_workers()\n",
            "  File \"/usr/local/lib/python3.10/dist-packages/torch/utils/data/dataloader.py\", line 1399, in _shutdown_workers\n",
            "    def _shutdown_workers(self):\n",
            "KeyboardInterrupt: \n",
            " 25% 700/2813 [00:06<00:20, 105.00it/s]\n",
            "Traceback (most recent call last):\n",
            "  File \"/content/drive/MyDrive/ai-challenge/train.py\", line 96, in <module>\n",
            "    outputs = model(images)\n",
            "  File \"/usr/local/lib/python3.10/dist-packages/torch/nn/modules/module.py\", line 1553, in _wrapped_call_impl\n",
            "    return self._call_impl(*args, **kwargs)\n",
            "  File \"/usr/local/lib/python3.10/dist-packages/torch/nn/modules/module.py\", line 1562, in _call_impl\n",
            "    return forward_call(*args, **kwargs)\n",
            "  File \"/content/drive/MyDrive/ai-challenge/model.py\", line 79, in forward\n",
            "    x = self.conv5_x(x)\n",
            "  File \"/usr/local/lib/python3.10/dist-packages/torch/nn/modules/module.py\", line 1553, in _wrapped_call_impl\n",
            "    return self._call_impl(*args, **kwargs)\n",
            "  File \"/usr/local/lib/python3.10/dist-packages/torch/nn/modules/module.py\", line 1562, in _call_impl\n",
            "    return forward_call(*args, **kwargs)\n",
            "  File \"/usr/local/lib/python3.10/dist-packages/torch/nn/modules/container.py\", line 219, in forward\n",
            "    input = module(input)\n",
            "  File \"/usr/local/lib/python3.10/dist-packages/torch/nn/modules/module.py\", line 1553, in _wrapped_call_impl\n",
            "    return self._call_impl(*args, **kwargs)\n",
            "  File \"/usr/local/lib/python3.10/dist-packages/torch/nn/modules/module.py\", line 1562, in _call_impl\n",
            "    return forward_call(*args, **kwargs)\n",
            "  File \"/content/drive/MyDrive/ai-challenge/model.py\", line 41, in forward\n",
            "    x = self.residual_function(x) + self.shortcut(x)\n",
            "  File \"/usr/local/lib/python3.10/dist-packages/torch/nn/modules/module.py\", line 1553, in _wrapped_call_impl\n",
            "    return self._call_impl(*args, **kwargs)\n",
            "  File \"/usr/local/lib/python3.10/dist-packages/torch/nn/modules/module.py\", line 1562, in _call_impl\n",
            "    return forward_call(*args, **kwargs)\n",
            "  File \"/usr/local/lib/python3.10/dist-packages/torch/nn/modules/container.py\", line 219, in forward\n",
            "    input = module(input)\n",
            "  File \"/usr/local/lib/python3.10/dist-packages/torch/nn/modules/module.py\", line 1553, in _wrapped_call_impl\n",
            "    return self._call_impl(*args, **kwargs)\n",
            "  File \"/usr/local/lib/python3.10/dist-packages/torch/nn/modules/module.py\", line 1562, in _call_impl\n",
            "    return forward_call(*args, **kwargs)\n",
            "  File \"/usr/local/lib/python3.10/dist-packages/torch/nn/modules/batchnorm.py\", line 156, in forward\n",
            "    self.num_batches_tracked.add_(1)  # type: ignore[has-type]\n",
            "KeyboardInterrupt\n"
          ]
        }
      ]
    },
    {
      "cell_type": "code",
      "source": [
        "!python3 test.py"
      ],
      "metadata": {
        "id": "Xz8V6OuQb0Pl",
        "outputId": "60557f14-961a-4c8d-c777-491dfd0d9471",
        "colab": {
          "base_uri": "https://localhost:8080/"
        }
      },
      "execution_count": null,
      "outputs": [
        {
          "output_type": "stream",
          "name": "stdout",
          "text": [
            "Total number of trainable parameters: 99695\n",
            "Loading checkpoint: epoch_230.pth\n",
            "/content/drive/MyDrive/ai-challenge/utils.py:58: FutureWarning: You are using `torch.load` with `weights_only=False` (the current default value), which uses the default pickle module implicitly. It is possible to construct malicious pickle data which will execute arbitrary code during unpickling (See https://github.com/pytorch/pytorch/blob/main/SECURITY.md#untrusted-models for more details). In a future release, the default value for `weights_only` will be flipped to `True`. This limits the functions that could be executed during unpickling. Arbitrary objects will no longer be allowed to be loaded via this mode unless they are explicitly allowlisted by the user via `torch.serialization.add_safe_globals`. We recommend you start setting `weights_only=True` for any use case where you don't have full control of the loaded file. Please open an issue on GitHub for any issues related to this experimental feature.\n",
            "  checkpoint = torch.load(os.path.join(ckpt_path, latest_checkpoint))\n",
            "odict_keys(['conv1.0.depthwise.weight', 'conv1.0.pointwise.weight', 'conv1.1.weight', 'conv1.1.bias', 'conv1.1.running_mean', 'conv1.1.running_var', 'conv1.1.num_batches_tracked', 'conv2_x.0.residual_function.0.depthwise.weight', 'conv2_x.0.residual_function.0.pointwise.weight', 'conv2_x.0.residual_function.1.weight', 'conv2_x.0.residual_function.1.bias', 'conv2_x.0.residual_function.1.running_mean', 'conv2_x.0.residual_function.1.running_var', 'conv2_x.0.residual_function.1.num_batches_tracked', 'conv2_x.0.residual_function.3.depthwise.weight', 'conv2_x.0.residual_function.3.pointwise.weight', 'conv2_x.0.residual_function.4.weight', 'conv2_x.0.residual_function.4.bias', 'conv2_x.0.residual_function.4.running_mean', 'conv2_x.0.residual_function.4.running_var', 'conv2_x.0.residual_function.4.num_batches_tracked', 'conv3_x.0.residual_function.0.depthwise.weight', 'conv3_x.0.residual_function.0.pointwise.weight', 'conv3_x.0.residual_function.1.weight', 'conv3_x.0.residual_function.1.bias', 'conv3_x.0.residual_function.1.running_mean', 'conv3_x.0.residual_function.1.running_var', 'conv3_x.0.residual_function.1.num_batches_tracked', 'conv3_x.0.residual_function.3.depthwise.weight', 'conv3_x.0.residual_function.3.pointwise.weight', 'conv3_x.0.residual_function.4.weight', 'conv3_x.0.residual_function.4.bias', 'conv3_x.0.residual_function.4.running_mean', 'conv3_x.0.residual_function.4.running_var', 'conv3_x.0.residual_function.4.num_batches_tracked', 'conv3_x.0.shortcut.0.depthwise.weight', 'conv3_x.0.shortcut.0.pointwise.weight', 'conv3_x.0.shortcut.1.weight', 'conv3_x.0.shortcut.1.bias', 'conv3_x.0.shortcut.1.running_mean', 'conv3_x.0.shortcut.1.running_var', 'conv3_x.0.shortcut.1.num_batches_tracked', 'conv3_x.1.residual_function.0.depthwise.weight', 'conv3_x.1.residual_function.0.pointwise.weight', 'conv3_x.1.residual_function.1.weight', 'conv3_x.1.residual_function.1.bias', 'conv3_x.1.residual_function.1.running_mean', 'conv3_x.1.residual_function.1.running_var', 'conv3_x.1.residual_function.1.num_batches_tracked', 'conv3_x.1.residual_function.3.depthwise.weight', 'conv3_x.1.residual_function.3.pointwise.weight', 'conv3_x.1.residual_function.4.weight', 'conv3_x.1.residual_function.4.bias', 'conv3_x.1.residual_function.4.running_mean', 'conv3_x.1.residual_function.4.running_var', 'conv3_x.1.residual_function.4.num_batches_tracked', 'conv4_x.0.residual_function.0.depthwise.weight', 'conv4_x.0.residual_function.0.pointwise.weight', 'conv4_x.0.residual_function.1.weight', 'conv4_x.0.residual_function.1.bias', 'conv4_x.0.residual_function.1.running_mean', 'conv4_x.0.residual_function.1.running_var', 'conv4_x.0.residual_function.1.num_batches_tracked', 'conv4_x.0.residual_function.3.depthwise.weight', 'conv4_x.0.residual_function.3.pointwise.weight', 'conv4_x.0.residual_function.4.weight', 'conv4_x.0.residual_function.4.bias', 'conv4_x.0.residual_function.4.running_mean', 'conv4_x.0.residual_function.4.running_var', 'conv4_x.0.residual_function.4.num_batches_tracked', 'conv4_x.0.shortcut.0.depthwise.weight', 'conv4_x.0.shortcut.0.pointwise.weight', 'conv4_x.0.shortcut.1.weight', 'conv4_x.0.shortcut.1.bias', 'conv4_x.0.shortcut.1.running_mean', 'conv4_x.0.shortcut.1.running_var', 'conv4_x.0.shortcut.1.num_batches_tracked', 'conv5_x.0.residual_function.0.depthwise.weight', 'conv5_x.0.residual_function.0.pointwise.weight', 'conv5_x.0.residual_function.1.weight', 'conv5_x.0.residual_function.1.bias', 'conv5_x.0.residual_function.1.running_mean', 'conv5_x.0.residual_function.1.running_var', 'conv5_x.0.residual_function.1.num_batches_tracked', 'conv5_x.0.residual_function.3.depthwise.weight', 'conv5_x.0.residual_function.3.pointwise.weight', 'conv5_x.0.residual_function.4.weight', 'conv5_x.0.residual_function.4.bias', 'conv5_x.0.residual_function.4.running_mean', 'conv5_x.0.residual_function.4.running_var', 'conv5_x.0.residual_function.4.num_batches_tracked', 'conv5_x.0.shortcut.0.depthwise.weight', 'conv5_x.0.shortcut.0.pointwise.weight', 'conv5_x.0.shortcut.1.weight', 'conv5_x.0.shortcut.1.bias', 'conv5_x.0.shortcut.1.running_mean', 'conv5_x.0.shortcut.1.running_var', 'conv5_x.0.shortcut.1.num_batches_tracked', 'conv5_x.1.residual_function.0.depthwise.weight', 'conv5_x.1.residual_function.0.pointwise.weight', 'conv5_x.1.residual_function.1.weight', 'conv5_x.1.residual_function.1.bias', 'conv5_x.1.residual_function.1.running_mean', 'conv5_x.1.residual_function.1.running_var', 'conv5_x.1.residual_function.1.num_batches_tracked', 'conv5_x.1.residual_function.3.depthwise.weight', 'conv5_x.1.residual_function.3.pointwise.weight', 'conv5_x.1.residual_function.4.weight', 'conv5_x.1.residual_function.4.bias', 'conv5_x.1.residual_function.4.running_mean', 'conv5_x.1.residual_function.4.running_var', 'conv5_x.1.residual_function.4.num_batches_tracked', 'fc.weight', 'fc.bias'])\n",
            "/content/drive/MyDrive/ai-challenge/utils.py:61: FutureWarning: You are using `torch.load` with `weights_only=False` (the current default value), which uses the default pickle module implicitly. It is possible to construct malicious pickle data which will execute arbitrary code during unpickling (See https://github.com/pytorch/pytorch/blob/main/SECURITY.md#untrusted-models for more details). In a future release, the default value for `weights_only` will be flipped to `True`. This limits the functions that could be executed during unpickling. Arbitrary objects will no longer be allowed to be loaded via this mode unless they are explicitly allowlisted by the user via `torch.serialization.add_safe_globals`. We recommend you start setting `weights_only=True` for any use case where you don't have full control of the loaded file. Please open an issue on GitHub for any issues related to this experimental feature.\n",
            "  checkpoint = torch.load(os.path.join(ckpt_path, latest_checkpoint))\n",
            "Test predictions saved to 'result/test_predictions.csv'.\n"
          ]
        }
      ]
    }
  ],
  "metadata": {
    "kernelspec": {
      "display_name": "Python 3",
      "name": "python3"
    },
    "language_info": {
      "codemirror_mode": {
        "name": "ipython",
        "version": 3
      },
      "file_extension": ".py",
      "mimetype": "text/x-python",
      "name": "python",
      "nbconvert_exporter": "python",
      "pygments_lexer": "ipython3",
      "version": "3.9.12"
    },
    "colab": {
      "provenance": [],
      "gpuType": "L4",
      "machine_shape": "hm",
      "include_colab_link": true
    },
    "accelerator": "GPU"
  },
  "nbformat": 4,
  "nbformat_minor": 0
}