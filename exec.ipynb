{
  "cells": [
    {
      "cell_type": "markdown",
      "metadata": {
        "id": "view-in-github",
        "colab_type": "text"
      },
      "source": [
        "<a href=\"https://colab.research.google.com/github/dh610/ai-challenge/blob/main/exec.ipynb\" target=\"_parent\"><img src=\"https://colab.research.google.com/assets/colab-badge.svg\" alt=\"Open In Colab\"/></a>"
      ]
    },
    {
      "cell_type": "code",
      "source": [
        "from google.colab import drive\n",
        "drive.mount('/content/drive')\n",
        "\n",
        "#!pip install colab_ssh --upgrade\n",
        "\n",
        "#from colab_ssh import launch_ssh_cloudflared, init_git_cloudflared\n",
        "#launch_ssh_cloudflared(password=\"1234\")"
      ],
      "metadata": {
        "colab": {
          "base_uri": "https://localhost:8080/"
        },
        "id": "3LeERkBIL1j8",
        "outputId": "30924590-7336-40d5-ec75-bc8b872e0fdc"
      },
      "execution_count": 1,
      "outputs": [
        {
          "output_type": "stream",
          "name": "stdout",
          "text": [
            "Mounted at /content/drive\n"
          ]
        }
      ]
    },
    {
      "cell_type": "code",
      "source": [
        "import sys\n",
        "import os\n",
        "\n",
        "os.chdir(\"/content/drive/MyDrive/ai-challenge/\")"
      ],
      "metadata": {
        "id": "kr8sQ0b2QVsK"
      },
      "execution_count": 2,
      "outputs": []
    },
    {
      "cell_type": "code",
      "source": [
        "!git pull"
      ],
      "metadata": {
        "id": "i1VL3xz_QaiT",
        "outputId": "42c5a578-db63-4ac3-b679-fd8d3ccb0ed0",
        "colab": {
          "base_uri": "https://localhost:8080/"
        }
      },
      "execution_count": 18,
      "outputs": [
        {
          "output_type": "stream",
          "name": "stdout",
          "text": [
            "remote: Enumerating objects: 5, done.\u001b[K\n",
            "remote: Counting objects:  20% (1/5)\u001b[K\rremote: Counting objects:  40% (2/5)\u001b[K\rremote: Counting objects:  60% (3/5)\u001b[K\rremote: Counting objects:  80% (4/5)\u001b[K\rremote: Counting objects: 100% (5/5)\u001b[K\rremote: Counting objects: 100% (5/5), done.\u001b[K\n",
            "remote: Compressing objects: 100% (1/1)\u001b[K\rremote: Compressing objects: 100% (1/1), done.\u001b[K\n",
            "remote: Total 3 (delta 2), reused 3 (delta 2), pack-reused 0 (from 0)\u001b[K\n",
            "Unpacking objects:  33% (1/3)\rUnpacking objects:  66% (2/3)\rUnpacking objects: 100% (3/3)\rUnpacking objects: 100% (3/3), 262 bytes | 6.00 KiB/s, done.\n",
            "From https://github.com/dh610/ai-challenge\n",
            "   1ab58f2..6e37752  main       -> origin/main\n",
            "Updating 1ab58f2..6e37752\n",
            "Fast-forward\n",
            " train.py | 2 \u001b[32m+\u001b[m\u001b[31m-\u001b[m\n",
            " 1 file changed, 1 insertion(+), 1 deletion(-)\n"
          ]
        }
      ]
    },
    {
      "cell_type": "code",
      "source": [
        "!python3 train.py"
      ],
      "metadata": {
        "id": "v-epJXo4Bb7h",
        "outputId": "d6e45dfd-5951-4c1e-cb08-ec72d9c9006d",
        "colab": {
          "base_uri": "https://localhost:8080/"
        }
      },
      "execution_count": 19,
      "outputs": [
        {
          "output_type": "stream",
          "name": "stdout",
          "text": [
            "100% 3125/3125 [00:08<00:00, 354.89it/s]\n",
            "Epoch [1/10], Train Loss: 4.4206\n",
            "100% 3125/3125 [00:08<00:00, 367.41it/s]\n",
            "Epoch [2/10], Train Loss: 3.9696\n",
            "100% 3125/3125 [00:08<00:00, 369.79it/s]\n",
            "Epoch [3/10], Train Loss: 3.6995\n",
            "100% 3125/3125 [00:08<00:00, 366.43it/s]\n",
            "Epoch [4/10], Train Loss: 3.5035\n",
            "100% 3125/3125 [00:08<00:00, 371.19it/s]\n",
            "Epoch [5/10], Train Loss: 3.3537\n",
            "100% 3125/3125 [00:08<00:00, 371.40it/s]\n",
            "Epoch [6/10], Train Loss: 3.2246\n",
            "100% 3125/3125 [00:08<00:00, 370.91it/s]\n",
            "Epoch [7/10], Train Loss: 3.0976\n",
            "100% 3125/3125 [00:08<00:00, 364.29it/s]\n",
            "Epoch [8/10], Train Loss: 2.9839\n",
            "100% 3125/3125 [00:08<00:00, 370.55it/s]\n",
            "Epoch [9/10], Train Loss: 2.9002\n",
            "100% 3125/3125 [00:08<00:00, 374.73it/s]\n",
            "Epoch [10/10], Train Loss: 2.8512\n",
            "Model weights saved to /content/drive/MyDrive/ai-challenge/weight/final_model_weights.pth.\n",
            "Test predictions saved to '/content/drive/MyDrive/ai-challenge/test_predictions.csv'.\n"
          ]
        }
      ]
    }
  ],
  "metadata": {
    "kernelspec": {
      "display_name": "Python 3",
      "name": "python3"
    },
    "language_info": {
      "codemirror_mode": {
        "name": "ipython",
        "version": 3
      },
      "file_extension": ".py",
      "mimetype": "text/x-python",
      "name": "python",
      "nbconvert_exporter": "python",
      "pygments_lexer": "ipython3",
      "version": "3.9.12"
    },
    "colab": {
      "provenance": [],
      "machine_shape": "hm",
      "gpuType": "A100",
      "include_colab_link": true
    },
    "accelerator": "GPU"
  },
  "nbformat": 4,
  "nbformat_minor": 0
}