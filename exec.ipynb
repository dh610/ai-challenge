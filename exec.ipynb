{
  "cells": [
    {
      "cell_type": "markdown",
      "metadata": {
        "id": "view-in-github",
        "colab_type": "text"
      },
      "source": [
        "<a href=\"https://colab.research.google.com/github/dh610/ai-challenge/blob/main/exec.ipynb\" target=\"_parent\"><img src=\"https://colab.research.google.com/assets/colab-badge.svg\" alt=\"Open In Colab\"/></a>"
      ]
    },
    {
      "cell_type": "code",
      "source": [
        "from google.colab import drive\n",
        "drive.mount('/content/drive')"
      ],
      "metadata": {
        "colab": {
          "base_uri": "https://localhost:8080/"
        },
        "id": "3LeERkBIL1j8",
        "outputId": "59326a89-c30d-45d3-8de5-a2c6a6fc2130"
      },
      "execution_count": 4,
      "outputs": [
        {
          "output_type": "stream",
          "name": "stdout",
          "text": [
            "Drive already mounted at /content/drive; to attempt to forcibly remount, call drive.mount(\"/content/drive\", force_remount=True).\n"
          ]
        }
      ]
    },
    {
      "cell_type": "code",
      "source": [
        "import sys\n",
        "import os\n",
        "\n",
        "os.chdir(\"/content/drive/MyDrive/ai-challenge/\")\n",
        "!git pull"
      ],
      "metadata": {
        "id": "kr8sQ0b2QVsK",
        "outputId": "1dd70574-a5f0-4950-c08e-0593e2e3f7ab",
        "colab": {
          "base_uri": "https://localhost:8080/"
        }
      },
      "execution_count": 20,
      "outputs": [
        {
          "output_type": "stream",
          "name": "stdout",
          "text": [
            "remote: Enumerating objects: 7, done.\u001b[K\n",
            "remote: Counting objects:  14% (1/7)\u001b[K\rremote: Counting objects:  28% (2/7)\u001b[K\rremote: Counting objects:  42% (3/7)\u001b[K\rremote: Counting objects:  57% (4/7)\u001b[K\rremote: Counting objects:  71% (5/7)\u001b[K\rremote: Counting objects:  85% (6/7)\u001b[K\rremote: Counting objects: 100% (7/7)\u001b[K\rremote: Counting objects: 100% (7/7), done.\u001b[K\n",
            "remote: Compressing objects: 100% (1/1)\u001b[K\rremote: Compressing objects: 100% (1/1), done.\u001b[K\n",
            "remote: Total 4 (delta 3), reused 4 (delta 3), pack-reused 0 (from 0)\u001b[K\n",
            "Unpacking objects:  25% (1/4)\rUnpacking objects:  50% (2/4)\rUnpacking objects:  75% (3/4)\rUnpacking objects: 100% (4/4)\rUnpacking objects: 100% (4/4), 392 bytes | 14.00 KiB/s, done.\n",
            "From https://github.com/dh610/ai-challenge\n",
            "   dfff678..18778c2  main       -> origin/main\n",
            "Updating dfff678..18778c2\n",
            "Fast-forward\n",
            " model.py | 2 \u001b[31m--\u001b[m\n",
            " train.py | 1 \u001b[32m+\u001b[m\n",
            " 2 files changed, 1 insertion(+), 2 deletions(-)\n"
          ]
        }
      ]
    },
    {
      "cell_type": "code",
      "source": [
        "!python3 train.py"
      ],
      "metadata": {
        "id": "v-epJXo4Bb7h",
        "outputId": "1cd558d2-ad74-4907-a30b-eb5f3c26ba1b",
        "colab": {
          "base_uri": "https://localhost:8080/"
        }
      },
      "execution_count": 21,
      "outputs": [
        {
          "output_type": "stream",
          "name": "stdout",
          "text": [
            "Loading checkpoint: epoch_230.pth\n",
            "/content/drive/MyDrive/ai-challenge/utils.py:58: FutureWarning: You are using `torch.load` with `weights_only=False` (the current default value), which uses the default pickle module implicitly. It is possible to construct malicious pickle data which will execute arbitrary code during unpickling (See https://github.com/pytorch/pytorch/blob/main/SECURITY.md#untrusted-models for more details). In a future release, the default value for `weights_only` will be flipped to `True`. This limits the functions that could be executed during unpickling. Arbitrary objects will no longer be allowed to be loaded via this mode unless they are explicitly allowlisted by the user via `torch.serialization.add_safe_globals`. We recommend you start setting `weights_only=True` for any use case where you don't have full control of the loaded file. Please open an issue on GitHub for any issues related to this experimental feature.\n",
            "  checkpoint = torch.load(os.path.join(ckpt_path, latest_checkpoint))\n",
            "odict_keys(['conv1.0.depthwise.weight', 'conv1.0.pointwise.weight', 'conv1.1.weight', 'conv1.1.bias', 'conv1.1.running_mean', 'conv1.1.running_var', 'conv1.1.num_batches_tracked', 'conv2_x.0.residual_function.0.depthwise.weight', 'conv2_x.0.residual_function.0.pointwise.weight', 'conv2_x.0.residual_function.1.weight', 'conv2_x.0.residual_function.1.bias', 'conv2_x.0.residual_function.1.running_mean', 'conv2_x.0.residual_function.1.running_var', 'conv2_x.0.residual_function.1.num_batches_tracked', 'conv2_x.0.residual_function.3.depthwise.weight', 'conv2_x.0.residual_function.3.pointwise.weight', 'conv2_x.0.residual_function.4.weight', 'conv2_x.0.residual_function.4.bias', 'conv2_x.0.residual_function.4.running_mean', 'conv2_x.0.residual_function.4.running_var', 'conv2_x.0.residual_function.4.num_batches_tracked', 'conv3_x.0.residual_function.0.depthwise.weight', 'conv3_x.0.residual_function.0.pointwise.weight', 'conv3_x.0.residual_function.1.weight', 'conv3_x.0.residual_function.1.bias', 'conv3_x.0.residual_function.1.running_mean', 'conv3_x.0.residual_function.1.running_var', 'conv3_x.0.residual_function.1.num_batches_tracked', 'conv3_x.0.residual_function.3.depthwise.weight', 'conv3_x.0.residual_function.3.pointwise.weight', 'conv3_x.0.residual_function.4.weight', 'conv3_x.0.residual_function.4.bias', 'conv3_x.0.residual_function.4.running_mean', 'conv3_x.0.residual_function.4.running_var', 'conv3_x.0.residual_function.4.num_batches_tracked', 'conv3_x.0.shortcut.0.depthwise.weight', 'conv3_x.0.shortcut.0.pointwise.weight', 'conv3_x.0.shortcut.1.weight', 'conv3_x.0.shortcut.1.bias', 'conv3_x.0.shortcut.1.running_mean', 'conv3_x.0.shortcut.1.running_var', 'conv3_x.0.shortcut.1.num_batches_tracked', 'conv3_x.1.residual_function.0.depthwise.weight', 'conv3_x.1.residual_function.0.pointwise.weight', 'conv3_x.1.residual_function.1.weight', 'conv3_x.1.residual_function.1.bias', 'conv3_x.1.residual_function.1.running_mean', 'conv3_x.1.residual_function.1.running_var', 'conv3_x.1.residual_function.1.num_batches_tracked', 'conv3_x.1.residual_function.3.depthwise.weight', 'conv3_x.1.residual_function.3.pointwise.weight', 'conv3_x.1.residual_function.4.weight', 'conv3_x.1.residual_function.4.bias', 'conv3_x.1.residual_function.4.running_mean', 'conv3_x.1.residual_function.4.running_var', 'conv3_x.1.residual_function.4.num_batches_tracked', 'conv4_x.0.residual_function.0.depthwise.weight', 'conv4_x.0.residual_function.0.pointwise.weight', 'conv4_x.0.residual_function.1.weight', 'conv4_x.0.residual_function.1.bias', 'conv4_x.0.residual_function.1.running_mean', 'conv4_x.0.residual_function.1.running_var', 'conv4_x.0.residual_function.1.num_batches_tracked', 'conv4_x.0.residual_function.3.depthwise.weight', 'conv4_x.0.residual_function.3.pointwise.weight', 'conv4_x.0.residual_function.4.weight', 'conv4_x.0.residual_function.4.bias', 'conv4_x.0.residual_function.4.running_mean', 'conv4_x.0.residual_function.4.running_var', 'conv4_x.0.residual_function.4.num_batches_tracked', 'conv4_x.0.shortcut.0.depthwise.weight', 'conv4_x.0.shortcut.0.pointwise.weight', 'conv4_x.0.shortcut.1.weight', 'conv4_x.0.shortcut.1.bias', 'conv4_x.0.shortcut.1.running_mean', 'conv4_x.0.shortcut.1.running_var', 'conv4_x.0.shortcut.1.num_batches_tracked', 'conv5_x.0.residual_function.0.depthwise.weight', 'conv5_x.0.residual_function.0.pointwise.weight', 'conv5_x.0.residual_function.1.weight', 'conv5_x.0.residual_function.1.bias', 'conv5_x.0.residual_function.1.running_mean', 'conv5_x.0.residual_function.1.running_var', 'conv5_x.0.residual_function.1.num_batches_tracked', 'conv5_x.0.residual_function.3.depthwise.weight', 'conv5_x.0.residual_function.3.pointwise.weight', 'conv5_x.0.residual_function.4.weight', 'conv5_x.0.residual_function.4.bias', 'conv5_x.0.residual_function.4.running_mean', 'conv5_x.0.residual_function.4.running_var', 'conv5_x.0.residual_function.4.num_batches_tracked', 'conv5_x.0.shortcut.0.depthwise.weight', 'conv5_x.0.shortcut.0.pointwise.weight', 'conv5_x.0.shortcut.1.weight', 'conv5_x.0.shortcut.1.bias', 'conv5_x.0.shortcut.1.running_mean', 'conv5_x.0.shortcut.1.running_var', 'conv5_x.0.shortcut.1.num_batches_tracked', 'conv5_x.1.residual_function.0.depthwise.weight', 'conv5_x.1.residual_function.0.pointwise.weight', 'conv5_x.1.residual_function.1.weight', 'conv5_x.1.residual_function.1.bias', 'conv5_x.1.residual_function.1.running_mean', 'conv5_x.1.residual_function.1.running_var', 'conv5_x.1.residual_function.1.num_batches_tracked', 'conv5_x.1.residual_function.3.depthwise.weight', 'conv5_x.1.residual_function.3.pointwise.weight', 'conv5_x.1.residual_function.4.weight', 'conv5_x.1.residual_function.4.bias', 'conv5_x.1.residual_function.4.running_mean', 'conv5_x.1.residual_function.4.running_var', 'conv5_x.1.residual_function.4.num_batches_tracked', 'fc.weight', 'fc.bias'])\n",
            "/content/drive/MyDrive/ai-challenge/utils.py:61: FutureWarning: You are using `torch.load` with `weights_only=False` (the current default value), which uses the default pickle module implicitly. It is possible to construct malicious pickle data which will execute arbitrary code during unpickling (See https://github.com/pytorch/pytorch/blob/main/SECURITY.md#untrusted-models for more details). In a future release, the default value for `weights_only` will be flipped to `True`. This limits the functions that could be executed during unpickling. Arbitrary objects will no longer be allowed to be loaded via this mode unless they are explicitly allowlisted by the user via `torch.serialization.add_safe_globals`. We recommend you start setting `weights_only=True` for any use case where you don't have full control of the loaded file. Please open an issue on GitHub for any issues related to this experimental feature.\n",
            "  checkpoint = torch.load(os.path.join(ckpt_path, latest_checkpoint))\n",
            "Total number of trainable parameters: 99695\n",
            "100% 2813/2813 [00:33<00:00, 83.00it/s]\n",
            "Epoch [231/500], Train Loss: 3.0137, Train Accuracy: 0.3232, Val Loss: 1.7440, Val Accuracy: 0.5530\n",
            "Model weights saved to weight/epoch_231.pth.\n",
            "100% 2813/2813 [00:32<00:00, 87.14it/s]\n",
            "Epoch [232/500], Train Loss: 3.0331, Train Accuracy: 0.3299, Val Loss: 1.7533, Val Accuracy: 0.5518\n",
            "100% 2813/2813 [00:31<00:00, 87.98it/s]\n",
            "Epoch [233/500], Train Loss: 3.0136, Train Accuracy: 0.3234, Val Loss: 1.7461, Val Accuracy: 0.5546\n",
            "100% 2813/2813 [00:32<00:00, 87.81it/s]\n",
            "Epoch [234/500], Train Loss: 3.0037, Train Accuracy: 0.3299, Val Loss: 1.7245, Val Accuracy: 0.5618\n",
            "Model weights saved to weight/epoch_234.pth.\n",
            "100% 2813/2813 [00:32<00:00, 85.93it/s]\n",
            "Epoch [235/500], Train Loss: 3.0068, Train Accuracy: 0.3317, Val Loss: 1.7366, Val Accuracy: 0.5560\n",
            "100% 2813/2813 [00:33<00:00, 85.17it/s]\n",
            "Epoch [236/500], Train Loss: 3.0052, Train Accuracy: 0.3244, Val Loss: 1.7409, Val Accuracy: 0.5574\n",
            "100% 2813/2813 [00:31<00:00, 89.27it/s]\n",
            "Epoch [237/500], Train Loss: 3.0240, Train Accuracy: 0.3279, Val Loss: 1.7244, Val Accuracy: 0.5630\n",
            "Model weights saved to weight/epoch_237.pth.\n",
            "100% 2813/2813 [00:31<00:00, 88.65it/s]\n",
            "Epoch [238/500], Train Loss: 2.9965, Train Accuracy: 0.3355, Val Loss: 1.7207, Val Accuracy: 0.5594\n",
            "Model weights saved to weight/epoch_238.pth.\n",
            "100% 2813/2813 [00:31<00:00, 88.69it/s]\n",
            "Epoch [239/500], Train Loss: 3.0048, Train Accuracy: 0.3294, Val Loss: 1.7576, Val Accuracy: 0.5554\n",
            "100% 2813/2813 [00:32<00:00, 86.62it/s]\n",
            "Epoch [240/500], Train Loss: 3.0010, Train Accuracy: 0.3357, Val Loss: 1.7367, Val Accuracy: 0.5584\n",
            "100% 2813/2813 [00:31<00:00, 88.62it/s]\n",
            "Epoch [241/500], Train Loss: 3.0157, Train Accuracy: 0.3231, Val Loss: 1.7336, Val Accuracy: 0.5566\n",
            "100% 2813/2813 [00:31<00:00, 89.44it/s]\n",
            "Epoch [242/500], Train Loss: 2.9968, Train Accuracy: 0.3312, Val Loss: 1.7434, Val Accuracy: 0.5562\n",
            "100% 2813/2813 [00:32<00:00, 87.31it/s]\n",
            "Epoch [243/500], Train Loss: 3.0116, Train Accuracy: 0.3289, Val Loss: 1.7392, Val Accuracy: 0.5604\n",
            "100% 2813/2813 [00:31<00:00, 88.92it/s]\n",
            "Epoch [244/500], Train Loss: 3.0069, Train Accuracy: 0.3374, Val Loss: 1.7396, Val Accuracy: 0.5508\n",
            "100% 2813/2813 [00:32<00:00, 87.33it/s]\n",
            "Epoch [245/500], Train Loss: 2.9894, Train Accuracy: 0.3302, Val Loss: 1.7212, Val Accuracy: 0.5558\n",
            "100% 2813/2813 [00:32<00:00, 86.64it/s]\n",
            "Epoch [246/500], Train Loss: 3.0003, Train Accuracy: 0.3338, Val Loss: 1.7488, Val Accuracy: 0.5516\n",
            "100% 2813/2813 [00:31<00:00, 89.74it/s]\n",
            "Epoch [247/500], Train Loss: 3.0056, Train Accuracy: 0.3299, Val Loss: 1.7375, Val Accuracy: 0.5532\n",
            "100% 2813/2813 [00:32<00:00, 85.66it/s]\n",
            "Epoch [248/500], Train Loss: 3.0048, Train Accuracy: 0.3334, Val Loss: 1.7225, Val Accuracy: 0.5652\n",
            "100% 2813/2813 [00:32<00:00, 87.73it/s]\n",
            "Epoch [249/500], Train Loss: 3.0187, Train Accuracy: 0.3286, Val Loss: 1.7262, Val Accuracy: 0.5672\n",
            "100% 2813/2813 [00:31<00:00, 88.87it/s]\n",
            "Epoch [250/500], Train Loss: 3.0266, Train Accuracy: 0.3254, Val Loss: 1.7630, Val Accuracy: 0.5550\n",
            "100% 2813/2813 [00:32<00:00, 86.76it/s]\n",
            "Epoch [251/500], Train Loss: 3.0034, Train Accuracy: 0.3340, Val Loss: 1.7283, Val Accuracy: 0.5570\n",
            "100% 2813/2813 [00:31<00:00, 88.87it/s]\n",
            "Epoch [252/500], Train Loss: 2.9821, Train Accuracy: 0.3280, Val Loss: 1.7415, Val Accuracy: 0.5602\n",
            "100% 2813/2813 [00:33<00:00, 84.91it/s]\n",
            "Epoch [253/500], Train Loss: 2.9989, Train Accuracy: 0.3351, Val Loss: 1.7337, Val Accuracy: 0.5582\n",
            "100% 2813/2813 [00:32<00:00, 87.15it/s]\n",
            "Epoch [254/500], Train Loss: 2.9832, Train Accuracy: 0.3315, Val Loss: 1.7320, Val Accuracy: 0.5624\n",
            " 44% 1224/2813 [00:14<00:16, 93.47it/s]Exception ignored in: <function _MultiProcessingDataLoaderIter.__del__ at 0x7812f8f5e0e0>\n",
            "Traceback (most recent call last):\n",
            "  File \"/usr/local/lib/python3.10/dist-packages/torch/utils/data/dataloader.py\", line 1477, in __del__\n",
            "    self._shutdown_workers()\n",
            "  File \"/usr/local/lib/python3.10/dist-packages/torch/utils/data/dataloader.py\", line 1428, in _shutdown_workers\n",
            "    self._workers_done_event.set()\n",
            "  File \"/usr/lib/python3.10/multiprocessing/synchronize.py\", line 338, in set\n",
            "    self._cond.notify_all()\n",
            "  File \"/usr/lib/python3.10/multiprocessing/synchronize.py\", line 297, in notify_all\n",
            "    self.notify(n=sys.maxsize)\n",
            "  File \"/usr/lib/python3.10/multiprocessing/synchronize.py\", line 284, in notify\n",
            "    while sleepers < n and self._sleeping_count.acquire(False):\n",
            "KeyboardInterrupt: \n",
            " 44% 1227/2813 [00:14<00:18, 86.31it/s]\n",
            "Traceback (most recent call last):\n",
            "  File \"/content/drive/MyDrive/ai-challenge/train.py\", line 100, in <module>\n",
            "    outputs = model(images)\n",
            "  File \"/usr/local/lib/python3.10/dist-packages/torch/nn/modules/module.py\", line 1553, in _wrapped_call_impl\n",
            "    return self._call_impl(*args, **kwargs)\n",
            "  File \"/usr/local/lib/python3.10/dist-packages/torch/nn/modules/module.py\", line 1562, in _call_impl\n",
            "    return forward_call(*args, **kwargs)\n",
            "  File \"/content/drive/MyDrive/ai-challenge/model.py\", line 75, in forward\n",
            "    x = self.conv2_x(x)\n",
            "  File \"/usr/local/lib/python3.10/dist-packages/torch/nn/modules/module.py\", line 1553, in _wrapped_call_impl\n",
            "    return self._call_impl(*args, **kwargs)\n",
            "  File \"/usr/local/lib/python3.10/dist-packages/torch/nn/modules/module.py\", line 1562, in _call_impl\n",
            "    return forward_call(*args, **kwargs)\n",
            "  File \"/usr/local/lib/python3.10/dist-packages/torch/nn/modules/container.py\", line 219, in forward\n",
            "    input = module(input)\n",
            "  File \"/usr/local/lib/python3.10/dist-packages/torch/nn/modules/module.py\", line 1553, in _wrapped_call_impl\n",
            "    return self._call_impl(*args, **kwargs)\n",
            "  File \"/usr/local/lib/python3.10/dist-packages/torch/nn/modules/module.py\", line 1562, in _call_impl\n",
            "    return forward_call(*args, **kwargs)\n",
            "  File \"/content/drive/MyDrive/ai-challenge/model.py\", line 41, in forward\n",
            "    x = self.residual_function(x) + self.shortcut(x)\n",
            "  File \"/usr/local/lib/python3.10/dist-packages/torch/nn/modules/module.py\", line 1553, in _wrapped_call_impl\n",
            "    return self._call_impl(*args, **kwargs)\n",
            "  File \"/usr/local/lib/python3.10/dist-packages/torch/nn/modules/module.py\", line 1562, in _call_impl\n",
            "    return forward_call(*args, **kwargs)\n",
            "  File \"/usr/local/lib/python3.10/dist-packages/torch/nn/modules/container.py\", line 219, in forward\n",
            "    input = module(input)\n",
            "  File \"/usr/local/lib/python3.10/dist-packages/torch/nn/modules/module.py\", line 1553, in _wrapped_call_impl\n",
            "    return self._call_impl(*args, **kwargs)\n",
            "  File \"/usr/local/lib/python3.10/dist-packages/torch/nn/modules/module.py\", line 1562, in _call_impl\n",
            "    return forward_call(*args, **kwargs)\n",
            "  File \"/usr/local/lib/python3.10/dist-packages/torch/nn/modules/batchnorm.py\", line 176, in forward\n",
            "    return F.batch_norm(\n",
            "  File \"/usr/local/lib/python3.10/dist-packages/torch/nn/functional.py\", line 2510, in batch_norm\n",
            "    _verify_batch_size(input.size())\n",
            "  File \"/usr/local/lib/python3.10/dist-packages/torch/nn/functional.py\", line 2475, in _verify_batch_size\n",
            "    for i in range(len(size) - 2):\n",
            "KeyboardInterrupt\n"
          ]
        }
      ]
    },
    {
      "cell_type": "code",
      "source": [
        "!python3 test.py"
      ],
      "metadata": {
        "id": "Xz8V6OuQb0Pl",
        "outputId": "60557f14-961a-4c8d-c777-491dfd0d9471",
        "colab": {
          "base_uri": "https://localhost:8080/"
        }
      },
      "execution_count": 12,
      "outputs": [
        {
          "output_type": "stream",
          "name": "stdout",
          "text": [
            "Total number of trainable parameters: 99695\n",
            "Loading checkpoint: epoch_230.pth\n",
            "/content/drive/MyDrive/ai-challenge/utils.py:58: FutureWarning: You are using `torch.load` with `weights_only=False` (the current default value), which uses the default pickle module implicitly. It is possible to construct malicious pickle data which will execute arbitrary code during unpickling (See https://github.com/pytorch/pytorch/blob/main/SECURITY.md#untrusted-models for more details). In a future release, the default value for `weights_only` will be flipped to `True`. This limits the functions that could be executed during unpickling. Arbitrary objects will no longer be allowed to be loaded via this mode unless they are explicitly allowlisted by the user via `torch.serialization.add_safe_globals`. We recommend you start setting `weights_only=True` for any use case where you don't have full control of the loaded file. Please open an issue on GitHub for any issues related to this experimental feature.\n",
            "  checkpoint = torch.load(os.path.join(ckpt_path, latest_checkpoint))\n",
            "odict_keys(['conv1.0.depthwise.weight', 'conv1.0.pointwise.weight', 'conv1.1.weight', 'conv1.1.bias', 'conv1.1.running_mean', 'conv1.1.running_var', 'conv1.1.num_batches_tracked', 'conv2_x.0.residual_function.0.depthwise.weight', 'conv2_x.0.residual_function.0.pointwise.weight', 'conv2_x.0.residual_function.1.weight', 'conv2_x.0.residual_function.1.bias', 'conv2_x.0.residual_function.1.running_mean', 'conv2_x.0.residual_function.1.running_var', 'conv2_x.0.residual_function.1.num_batches_tracked', 'conv2_x.0.residual_function.3.depthwise.weight', 'conv2_x.0.residual_function.3.pointwise.weight', 'conv2_x.0.residual_function.4.weight', 'conv2_x.0.residual_function.4.bias', 'conv2_x.0.residual_function.4.running_mean', 'conv2_x.0.residual_function.4.running_var', 'conv2_x.0.residual_function.4.num_batches_tracked', 'conv3_x.0.residual_function.0.depthwise.weight', 'conv3_x.0.residual_function.0.pointwise.weight', 'conv3_x.0.residual_function.1.weight', 'conv3_x.0.residual_function.1.bias', 'conv3_x.0.residual_function.1.running_mean', 'conv3_x.0.residual_function.1.running_var', 'conv3_x.0.residual_function.1.num_batches_tracked', 'conv3_x.0.residual_function.3.depthwise.weight', 'conv3_x.0.residual_function.3.pointwise.weight', 'conv3_x.0.residual_function.4.weight', 'conv3_x.0.residual_function.4.bias', 'conv3_x.0.residual_function.4.running_mean', 'conv3_x.0.residual_function.4.running_var', 'conv3_x.0.residual_function.4.num_batches_tracked', 'conv3_x.0.shortcut.0.depthwise.weight', 'conv3_x.0.shortcut.0.pointwise.weight', 'conv3_x.0.shortcut.1.weight', 'conv3_x.0.shortcut.1.bias', 'conv3_x.0.shortcut.1.running_mean', 'conv3_x.0.shortcut.1.running_var', 'conv3_x.0.shortcut.1.num_batches_tracked', 'conv3_x.1.residual_function.0.depthwise.weight', 'conv3_x.1.residual_function.0.pointwise.weight', 'conv3_x.1.residual_function.1.weight', 'conv3_x.1.residual_function.1.bias', 'conv3_x.1.residual_function.1.running_mean', 'conv3_x.1.residual_function.1.running_var', 'conv3_x.1.residual_function.1.num_batches_tracked', 'conv3_x.1.residual_function.3.depthwise.weight', 'conv3_x.1.residual_function.3.pointwise.weight', 'conv3_x.1.residual_function.4.weight', 'conv3_x.1.residual_function.4.bias', 'conv3_x.1.residual_function.4.running_mean', 'conv3_x.1.residual_function.4.running_var', 'conv3_x.1.residual_function.4.num_batches_tracked', 'conv4_x.0.residual_function.0.depthwise.weight', 'conv4_x.0.residual_function.0.pointwise.weight', 'conv4_x.0.residual_function.1.weight', 'conv4_x.0.residual_function.1.bias', 'conv4_x.0.residual_function.1.running_mean', 'conv4_x.0.residual_function.1.running_var', 'conv4_x.0.residual_function.1.num_batches_tracked', 'conv4_x.0.residual_function.3.depthwise.weight', 'conv4_x.0.residual_function.3.pointwise.weight', 'conv4_x.0.residual_function.4.weight', 'conv4_x.0.residual_function.4.bias', 'conv4_x.0.residual_function.4.running_mean', 'conv4_x.0.residual_function.4.running_var', 'conv4_x.0.residual_function.4.num_batches_tracked', 'conv4_x.0.shortcut.0.depthwise.weight', 'conv4_x.0.shortcut.0.pointwise.weight', 'conv4_x.0.shortcut.1.weight', 'conv4_x.0.shortcut.1.bias', 'conv4_x.0.shortcut.1.running_mean', 'conv4_x.0.shortcut.1.running_var', 'conv4_x.0.shortcut.1.num_batches_tracked', 'conv5_x.0.residual_function.0.depthwise.weight', 'conv5_x.0.residual_function.0.pointwise.weight', 'conv5_x.0.residual_function.1.weight', 'conv5_x.0.residual_function.1.bias', 'conv5_x.0.residual_function.1.running_mean', 'conv5_x.0.residual_function.1.running_var', 'conv5_x.0.residual_function.1.num_batches_tracked', 'conv5_x.0.residual_function.3.depthwise.weight', 'conv5_x.0.residual_function.3.pointwise.weight', 'conv5_x.0.residual_function.4.weight', 'conv5_x.0.residual_function.4.bias', 'conv5_x.0.residual_function.4.running_mean', 'conv5_x.0.residual_function.4.running_var', 'conv5_x.0.residual_function.4.num_batches_tracked', 'conv5_x.0.shortcut.0.depthwise.weight', 'conv5_x.0.shortcut.0.pointwise.weight', 'conv5_x.0.shortcut.1.weight', 'conv5_x.0.shortcut.1.bias', 'conv5_x.0.shortcut.1.running_mean', 'conv5_x.0.shortcut.1.running_var', 'conv5_x.0.shortcut.1.num_batches_tracked', 'conv5_x.1.residual_function.0.depthwise.weight', 'conv5_x.1.residual_function.0.pointwise.weight', 'conv5_x.1.residual_function.1.weight', 'conv5_x.1.residual_function.1.bias', 'conv5_x.1.residual_function.1.running_mean', 'conv5_x.1.residual_function.1.running_var', 'conv5_x.1.residual_function.1.num_batches_tracked', 'conv5_x.1.residual_function.3.depthwise.weight', 'conv5_x.1.residual_function.3.pointwise.weight', 'conv5_x.1.residual_function.4.weight', 'conv5_x.1.residual_function.4.bias', 'conv5_x.1.residual_function.4.running_mean', 'conv5_x.1.residual_function.4.running_var', 'conv5_x.1.residual_function.4.num_batches_tracked', 'fc.weight', 'fc.bias'])\n",
            "/content/drive/MyDrive/ai-challenge/utils.py:61: FutureWarning: You are using `torch.load` with `weights_only=False` (the current default value), which uses the default pickle module implicitly. It is possible to construct malicious pickle data which will execute arbitrary code during unpickling (See https://github.com/pytorch/pytorch/blob/main/SECURITY.md#untrusted-models for more details). In a future release, the default value for `weights_only` will be flipped to `True`. This limits the functions that could be executed during unpickling. Arbitrary objects will no longer be allowed to be loaded via this mode unless they are explicitly allowlisted by the user via `torch.serialization.add_safe_globals`. We recommend you start setting `weights_only=True` for any use case where you don't have full control of the loaded file. Please open an issue on GitHub for any issues related to this experimental feature.\n",
            "  checkpoint = torch.load(os.path.join(ckpt_path, latest_checkpoint))\n",
            "Test predictions saved to 'result/test_predictions.csv'.\n"
          ]
        }
      ]
    }
  ],
  "metadata": {
    "kernelspec": {
      "display_name": "Python 3",
      "name": "python3"
    },
    "language_info": {
      "codemirror_mode": {
        "name": "ipython",
        "version": 3
      },
      "file_extension": ".py",
      "mimetype": "text/x-python",
      "name": "python",
      "nbconvert_exporter": "python",
      "pygments_lexer": "ipython3",
      "version": "3.9.12"
    },
    "colab": {
      "provenance": [],
      "gpuType": "L4",
      "machine_shape": "hm",
      "include_colab_link": true
    },
    "accelerator": "GPU"
  },
  "nbformat": 4,
  "nbformat_minor": 0
}