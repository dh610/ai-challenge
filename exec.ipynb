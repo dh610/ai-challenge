{
  "cells": [
    {
      "cell_type": "markdown",
      "metadata": {
        "id": "view-in-github",
        "colab_type": "text"
      },
      "source": [
        "<a href=\"https://colab.research.google.com/github/dh610/ai-challenge/blob/main/exec.ipynb\" target=\"_parent\"><img src=\"https://colab.research.google.com/assets/colab-badge.svg\" alt=\"Open In Colab\"/></a>"
      ]
    },
    {
      "cell_type": "code",
      "source": [
        "from google.colab import drive\n",
        "drive.mount('/content/drive')\n",
        "\n",
        "#!pip install colab_ssh --upgrade\n",
        "\n",
        "#from colab_ssh import launch_ssh_cloudflared, init_git_cloudflared\n",
        "#launch_ssh_cloudflared(password=\"1234\")"
      ],
      "metadata": {
        "colab": {
          "base_uri": "https://localhost:8080/"
        },
        "id": "3LeERkBIL1j8",
        "outputId": "ea2594c8-9706-4332-9259-48189781caa1"
      },
      "execution_count": 1,
      "outputs": [
        {
          "output_type": "stream",
          "name": "stdout",
          "text": [
            "Mounted at /content/drive\n"
          ]
        }
      ]
    },
    {
      "cell_type": "code",
      "source": [
        "import sys\n",
        "import os\n",
        "\n",
        "os.chdir(\"/content/drive/MyDrive/ai-challenge/\")"
      ],
      "metadata": {
        "id": "kr8sQ0b2QVsK"
      },
      "execution_count": 2,
      "outputs": []
    },
    {
      "cell_type": "code",
      "source": [
        "!git pull"
      ],
      "metadata": {
        "id": "i1VL3xz_QaiT",
        "outputId": "4c7cb27c-5c02-4ff7-b3dc-e78544ebe40c",
        "colab": {
          "base_uri": "https://localhost:8080/"
        }
      },
      "execution_count": 3,
      "outputs": [
        {
          "output_type": "stream",
          "name": "stdout",
          "text": [
            "remote: Enumerating objects: 14, done.\u001b[K\n",
            "remote: Counting objects:   7% (1/14)\u001b[K\rremote: Counting objects:  14% (2/14)\u001b[K\rremote: Counting objects:  21% (3/14)\u001b[K\rremote: Counting objects:  28% (4/14)\u001b[K\rremote: Counting objects:  35% (5/14)\u001b[K\rremote: Counting objects:  42% (6/14)\u001b[K\rremote: Counting objects:  50% (7/14)\u001b[K\rremote: Counting objects:  57% (8/14)\u001b[K\rremote: Counting objects:  64% (9/14)\u001b[K\rremote: Counting objects:  71% (10/14)\u001b[K\rremote: Counting objects:  78% (11/14)\u001b[K\rremote: Counting objects:  85% (12/14)\u001b[K\rremote: Counting objects:  92% (13/14)\u001b[K\rremote: Counting objects: 100% (14/14)\u001b[K\rremote: Counting objects: 100% (14/14), done.\u001b[K\n",
            "remote: Compressing objects:  16% (1/6)\u001b[K\rremote: Compressing objects:  33% (2/6)\u001b[K\rremote: Compressing objects:  50% (3/6)\u001b[K\rremote: Compressing objects:  66% (4/6)\u001b[K\rremote: Compressing objects:  83% (5/6)\u001b[K\rremote: Compressing objects: 100% (6/6)\u001b[K\rremote: Compressing objects: 100% (6/6), done.\u001b[K\n",
            "remote: Total 10 (delta 6), reused 7 (delta 4), pack-reused 0 (from 0)\u001b[K\n",
            "Unpacking objects: 100% (10/10), 1.86 KiB | 0 bytes/s, done.\n",
            "From https://github.com/dh610/ai-challenge\n",
            "   6e37752..afcabf0  main       -> origin/main\n",
            "Updating 6e37752..afcabf0\n",
            "Fast-forward\n",
            " exec.ipynb | 79 \u001b[32m+++++++++++++++++++++++++++++++\u001b[m\u001b[31m------------------------------------------------\u001b[m\n",
            " model.py   |  5 \u001b[32m+++\u001b[m\u001b[31m--\u001b[m\n",
            " test.py    | 45 \u001b[32m+++++++++++++++++++++++++++++++++++++++++++++\u001b[m\n",
            " train.py   | 20 \u001b[32m+\u001b[m\u001b[31m-------------------\u001b[m\n",
            " 4 files changed, 80 insertions(+), 69 deletions(-)\n",
            " create mode 100644 test.py\n"
          ]
        }
      ]
    },
    {
      "cell_type": "code",
      "source": [
        "!python3 train.py"
      ],
      "metadata": {
        "id": "v-epJXo4Bb7h",
        "outputId": "5768d40e-b448-4bea-a1e7-cde69b71ad53",
        "colab": {
          "base_uri": "https://localhost:8080/"
        }
      },
      "execution_count": 4,
      "outputs": [
        {
          "output_type": "stream",
          "name": "stdout",
          "text": [
            "100% 3125/3125 [00:10<00:00, 311.32it/s]\n",
            "Epoch [1/10], Train Loss: 4.1939\n",
            "100% 3125/3125 [00:08<00:00, 356.72it/s]\n",
            "Epoch [2/10], Train Loss: 3.8055\n",
            "100% 3125/3125 [00:08<00:00, 353.48it/s]\n",
            "Epoch [3/10], Train Loss: 3.6597\n",
            "100% 3125/3125 [00:08<00:00, 349.90it/s]\n",
            "Epoch [4/10], Train Loss: 3.5471\n",
            "100% 3125/3125 [00:08<00:00, 354.33it/s]\n",
            "Epoch [5/10], Train Loss: 3.4459\n",
            "100% 3125/3125 [00:08<00:00, 353.19it/s]\n",
            "Epoch [6/10], Train Loss: 3.3428\n",
            "100% 3125/3125 [00:08<00:00, 352.23it/s]\n",
            "Epoch [7/10], Train Loss: 3.2444\n",
            "100% 3125/3125 [00:08<00:00, 352.14it/s]\n",
            "Epoch [8/10], Train Loss: 3.1607\n",
            "100% 3125/3125 [00:08<00:00, 355.78it/s]\n",
            "Epoch [9/10], Train Loss: 3.0849\n",
            "100% 3125/3125 [00:08<00:00, 357.98it/s]\n",
            "Epoch [10/10], Train Loss: 3.0445\n",
            "Model weights saved to /content/drive/MyDrive/ai-challenge/weight/final_model_weights.pth.\n"
          ]
        }
      ]
    },
    {
      "cell_type": "code",
      "source": [
        "!python3 test.py"
      ],
      "metadata": {
        "id": "Xz8V6OuQb0Pl",
        "outputId": "ea5034a5-826f-4a5f-aad7-ca55d06a80e2",
        "colab": {
          "base_uri": "https://localhost:8080/"
        }
      },
      "execution_count": 5,
      "outputs": [
        {
          "output_type": "stream",
          "name": "stdout",
          "text": [
            "/content/drive/MyDrive/ai-challenge/test.py:21: FutureWarning: You are using `torch.load` with `weights_only=False` (the current default value), which uses the default pickle module implicitly. It is possible to construct malicious pickle data which will execute arbitrary code during unpickling (See https://github.com/pytorch/pytorch/blob/main/SECURITY.md#untrusted-models for more details). In a future release, the default value for `weights_only` will be flipped to `True`. This limits the functions that could be executed during unpickling. Arbitrary objects will no longer be allowed to be loaded via this mode unless they are explicitly allowlisted by the user via `torch.serialization.add_safe_globals`. We recommend you start setting `weights_only=True` for any use case where you don't have full control of the loaded file. Please open an issue on GitHub for any issues related to this experimental feature.\n",
            "  model.load_state_dict(torch.load(model_save_path))\n",
            "Test predictions saved to '/content/drive/MyDrive/ai-challenge/test_predictions.csv'.\n"
          ]
        }
      ]
    }
  ],
  "metadata": {
    "kernelspec": {
      "display_name": "Python 3",
      "name": "python3"
    },
    "language_info": {
      "codemirror_mode": {
        "name": "ipython",
        "version": 3
      },
      "file_extension": ".py",
      "mimetype": "text/x-python",
      "name": "python",
      "nbconvert_exporter": "python",
      "pygments_lexer": "ipython3",
      "version": "3.9.12"
    },
    "colab": {
      "provenance": [],
      "machine_shape": "hm",
      "gpuType": "A100",
      "include_colab_link": true
    },
    "accelerator": "GPU"
  },
  "nbformat": 4,
  "nbformat_minor": 0
}