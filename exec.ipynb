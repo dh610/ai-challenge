{
  "cells": [
    {
      "cell_type": "markdown",
      "metadata": {
        "id": "view-in-github",
        "colab_type": "text"
      },
      "source": [
        "<a href=\"https://colab.research.google.com/github/dh610/ai-challenge/blob/main/exec.ipynb\" target=\"_parent\"><img src=\"https://colab.research.google.com/assets/colab-badge.svg\" alt=\"Open In Colab\"/></a>"
      ]
    },
    {
      "cell_type": "code",
      "source": [
        "from google.colab import drive\n",
        "drive.mount('/content/drive')\n",
        "\n",
        "#!pip install colab_ssh --upgrade\n",
        "\n",
        "#from colab_ssh import launch_ssh_cloudflared, init_git_cloudflared\n",
        "#launch_ssh_cloudflared(password=\"1234\")"
      ],
      "metadata": {
        "colab": {
          "base_uri": "https://localhost:8080/"
        },
        "id": "3LeERkBIL1j8",
        "outputId": "ae7090f2-9732-48a7-8948-77fdcb5e0477"
      },
      "execution_count": null,
      "outputs": [
        {
          "output_type": "stream",
          "name": "stdout",
          "text": [
            "Mounted at /content/drive\n"
          ]
        }
      ]
    },
    {
      "cell_type": "code",
      "source": [
        "import sys\n",
        "import os\n",
        "\n",
        "os.chdir(\"/content/drive/MyDrive/Advanced-AI/\")"
      ],
      "metadata": {
        "id": "kr8sQ0b2QVsK"
      },
      "execution_count": null,
      "outputs": []
    },
    {
      "cell_type": "code",
      "source": [
        "!git pull"
      ],
      "metadata": {
        "id": "i1VL3xz_QaiT",
        "outputId": "c6e444f8-763c-41db-cfc3-fe9897b86dee",
        "colab": {
          "base_uri": "https://localhost:8080/"
        }
      },
      "execution_count": null,
      "outputs": [
        {
          "output_type": "stream",
          "name": "stdout",
          "text": [
            "remote: Enumerating objects: 7, done.\u001b[K\n",
            "remote: Counting objects:  14% (1/7)\u001b[K\rremote: Counting objects:  28% (2/7)\u001b[K\rremote: Counting objects:  42% (3/7)\u001b[K\rremote: Counting objects:  57% (4/7)\u001b[K\rremote: Counting objects:  71% (5/7)\u001b[K\rremote: Counting objects:  85% (6/7)\u001b[K\rremote: Counting objects: 100% (7/7)\u001b[K\rremote: Counting objects: 100% (7/7), done.\u001b[K\n",
            "remote: Compressing objects: 100% (1/1)\u001b[K\rremote: Compressing objects: 100% (1/1), done.\u001b[K\n",
            "remote: Total 4 (delta 3), reused 4 (delta 3), pack-reused 0 (from 0)\u001b[K\n",
            "Unpacking objects: 100% (4/4), 321 bytes | 0 bytes/s, done.\n",
            "From https://github.com/dh610/Advanced-AI\n",
            "   7f793b8..258c718  main       -> origin/main\n",
            "Updating 7f793b8..258c718\n",
            "Fast-forward\n",
            " AirNet/option.py | 2 \u001b[32m+\u001b[m\u001b[31m-\u001b[m\n",
            " 1 file changed, 1 insertion(+), 1 deletion(-)\n"
          ]
        }
      ]
    },
    {
      "cell_type": "code",
      "source": [
        "sys.path.append(\"/content/drive/MyDrive/Advanced-AI/AirNet/\")\n",
        "os.chdir(\"/content/drive/MyDrive/Advanced-AI/AirNet\")\n",
        "\n",
        "derain_path = \"/content/drive/MyDrive/Advanced-AI/InstructIR/test-data/Rain100L/\"\n",
        "dehaze_path = \"/content/drive/MyDrive/Advanced-AI/InstructIR/test-data/SOTS/\"\n",
        "denoise_path = \"/content/drive/MyDrive/Advanced-AI/InstructIR/test-data/denoising_testsets/denoise/\""
      ],
      "metadata": {
        "id": "FzNgTnE5OZat"
      },
      "execution_count": null,
      "outputs": []
    },
    {
      "cell_type": "code",
      "source": [
        "!python train.py --derain_dir=\"$derain_path\" --dehaze_dir=\"$dehaze_path\" --epochs=100 --epochs_encoder=10 #TODO: checkpoint path setting"
      ],
      "metadata": {
        "id": "v-epJXo4Bb7h",
        "outputId": "d95aa5ed-e760-4a81-ce76-996b3547ddd0",
        "colab": {
          "base_uri": "https://localhost:8080/"
        }
      },
      "execution_count": null,
      "outputs": [
        {
          "output_type": "stream",
          "name": "stdout",
          "text": [
            "Start training...\n",
            "100% 50/50 [12:19<00:00, 14.78s/it]\n",
            "Epoch (0)  Loss: contrast_loss:5.6096\n",
            "100% 50/50 [02:19<00:00,  2.79s/it]\n",
            "Epoch (1)  Loss: contrast_loss:4.7834\n",
            "100% 50/50 [00:13<00:00,  3.60it/s]\n",
            "Epoch (2)  Loss: contrast_loss:4.4947\n",
            "100% 50/50 [00:13<00:00,  3.64it/s]\n",
            "Epoch (3)  Loss: contrast_loss:5.4391\n",
            "100% 50/50 [00:13<00:00,  3.64it/s]\n",
            "Epoch (4)  Loss: contrast_loss:4.9009\n",
            "100% 50/50 [00:13<00:00,  3.67it/s]\n",
            "Epoch (5)  Loss: contrast_loss:5.0053\n",
            "100% 50/50 [00:13<00:00,  3.60it/s]\n",
            "Epoch (6)  Loss: contrast_loss:5.0281\n",
            "100% 50/50 [00:13<00:00,  3.64it/s]\n",
            "Epoch (7)  Loss: contrast_loss:4.2308\n",
            "100% 50/50 [00:13<00:00,  3.63it/s]\n",
            "Epoch (8)  Loss: contrast_loss:4.9209\n",
            "100% 50/50 [00:13<00:00,  3.61it/s]\n",
            "Epoch (9)  Loss: contrast_loss:4.8492\n",
            "100% 50/50 [01:32<00:00,  1.85s/it]\n",
            "Epoch (10)  Loss: l1_loss:0.0999 contrast_loss:4.9329\n",
            "100% 50/50 [01:32<00:00,  1.85s/it]\n",
            "Epoch (11)  Loss: l1_loss:0.0766 contrast_loss:4.7872\n",
            "100% 50/50 [01:32<00:00,  1.84s/it]\n",
            "Epoch (12)  Loss: l1_loss:0.0575 contrast_loss:4.7227\n",
            "100% 50/50 [01:32<00:00,  1.84s/it]\n",
            "Epoch (13)  Loss: l1_loss:0.0525 contrast_loss:5.5328\n",
            "100% 50/50 [01:32<00:00,  1.85s/it]\n",
            "Epoch (14)  Loss: l1_loss:0.0482 contrast_loss:5.0179\n",
            "100% 50/50 [01:32<00:00,  1.84s/it]\n",
            "Epoch (15)  Loss: l1_loss:0.0744 contrast_loss:5.1429\n",
            "100% 50/50 [01:32<00:00,  1.84s/it]\n",
            "Epoch (16)  Loss: l1_loss:0.0542 contrast_loss:5.0037\n",
            "100% 50/50 [01:32<00:00,  1.85s/it]\n",
            "Epoch (17)  Loss: l1_loss:0.0761 contrast_loss:5.7272\n",
            "100% 50/50 [01:32<00:00,  1.84s/it]\n",
            "Epoch (18)  Loss: l1_loss:0.0563 contrast_loss:5.6939\n",
            "100% 50/50 [01:32<00:00,  1.85s/it]\n",
            "Epoch (19)  Loss: l1_loss:0.0482 contrast_loss:6.3445\n",
            " 98% 49/50 [01:32<00:01,  1.88s/it]\n",
            "Traceback (most recent call last):\n",
            "  File \"/content/drive/MyDrive/Advanced-AI/AirNet/train.py\", line 51, in <module>\n",
            "    loss.backward()\n",
            "  File \"/usr/local/lib/python3.10/dist-packages/torch/_tensor.py\", line 521, in backward\n",
            "    torch.autograd.backward(\n",
            "  File \"/usr/local/lib/python3.10/dist-packages/torch/autograd/__init__.py\", line 289, in backward\n",
            "    _engine_run_backward(\n",
            "  File \"/usr/local/lib/python3.10/dist-packages/torch/autograd/graph.py\", line 769, in _engine_run_backward\n",
            "    return Variable._execution_engine.run_backward(  # Calls into the C++ engine to run the backward pass\n",
            "KeyboardInterrupt\n"
          ]
        }
      ]
    }
  ],
  "metadata": {
    "kernelspec": {
      "display_name": "Python 3",
      "name": "python3"
    },
    "language_info": {
      "codemirror_mode": {
        "name": "ipython",
        "version": 3
      },
      "file_extension": ".py",
      "mimetype": "text/x-python",
      "name": "python",
      "nbconvert_exporter": "python",
      "pygments_lexer": "ipython3",
      "version": "3.9.12"
    },
    "colab": {
      "provenance": [],
      "machine_shape": "hm",
      "gpuType": "A100",
      "include_colab_link": true
    },
    "accelerator": "GPU"
  },
  "nbformat": 4,
  "nbformat_minor": 0
}