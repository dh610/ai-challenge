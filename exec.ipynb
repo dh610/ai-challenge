{
  "cells": [
    {
      "cell_type": "markdown",
      "metadata": {
        "id": "view-in-github",
        "colab_type": "text"
      },
      "source": [
        "<a href=\"https://colab.research.google.com/github/dh610/ai-challenge/blob/main/exec.ipynb\" target=\"_parent\"><img src=\"https://colab.research.google.com/assets/colab-badge.svg\" alt=\"Open In Colab\"/></a>"
      ]
    },
    {
      "cell_type": "code",
      "source": [
        "from google.colab import drive\n",
        "drive.mount('/content/drive')"
      ],
      "metadata": {
        "colab": {
          "base_uri": "https://localhost:8080/"
        },
        "id": "3LeERkBIL1j8",
        "outputId": "990d6075-0d3f-42ea-e4d9-9148f2bdec38"
      },
      "execution_count": 1,
      "outputs": [
        {
          "output_type": "stream",
          "name": "stdout",
          "text": [
            "Mounted at /content/drive\n"
          ]
        }
      ]
    },
    {
      "cell_type": "code",
      "source": [
        "import sys\n",
        "import os\n",
        "\n",
        "os.chdir(\"/content/drive/MyDrive/ai-challenge/\")"
      ],
      "metadata": {
        "id": "kr8sQ0b2QVsK"
      },
      "execution_count": 101,
      "outputs": []
    },
    {
      "cell_type": "code",
      "source": [
        "!git pull"
      ],
      "metadata": {
        "id": "i1VL3xz_QaiT",
        "outputId": "60ce73d2-cde0-441f-919b-f0b0475bb420",
        "colab": {
          "base_uri": "https://localhost:8080/"
        }
      },
      "execution_count": 173,
      "outputs": [
        {
          "output_type": "stream",
          "name": "stdout",
          "text": [
            "remote: Enumerating objects: 7, done.\u001b[K\n",
            "remote: Counting objects:  14% (1/7)\u001b[K\rremote: Counting objects:  28% (2/7)\u001b[K\rremote: Counting objects:  42% (3/7)\u001b[K\rremote: Counting objects:  57% (4/7)\u001b[K\rremote: Counting objects:  71% (5/7)\u001b[K\rremote: Counting objects:  85% (6/7)\u001b[K\rremote: Counting objects: 100% (7/7)\u001b[K\rremote: Counting objects: 100% (7/7), done.\u001b[K\n",
            "remote: Compressing objects: 100% (1/1)\u001b[K\rremote: Compressing objects: 100% (1/1), done.\u001b[K\n",
            "remote: Total 4 (delta 3), reused 4 (delta 3), pack-reused 0 (from 0)\u001b[K\n",
            "Unpacking objects:  25% (1/4)\rUnpacking objects:  50% (2/4)\rUnpacking objects:  75% (3/4)\rUnpacking objects: 100% (4/4)\rUnpacking objects: 100% (4/4), 498 bytes | 15.00 KiB/s, done.\n",
            "From https://github.com/dh610/ai-challenge\n",
            "   576cfb8..49632d5  main       -> origin/main\n",
            "Updating 576cfb8..49632d5\n",
            "Fast-forward\n",
            " model.py | 24 \u001b[32m++++++++++\u001b[m\u001b[31m--------------\u001b[m\n",
            " train.py |  6 \u001b[32m++\u001b[m\u001b[31m----\u001b[m\n",
            " 2 files changed, 12 insertions(+), 18 deletions(-)\n"
          ]
        }
      ]
    },
    {
      "cell_type": "code",
      "source": [
        "!python3 train.py"
      ],
      "metadata": {
        "id": "v-epJXo4Bb7h",
        "outputId": "128b103d-79dd-4d27-9c14-c01bd1284964",
        "colab": {
          "base_uri": "https://localhost:8080/"
        }
      },
      "execution_count": 174,
      "outputs": [
        {
          "output_type": "stream",
          "name": "stdout",
          "text": [
            "Total number of trainable parameters: 99400\n",
            " 11% 333/3125 [00:11<01:37, 28.76it/s]\n",
            "Traceback (most recent call last):\n",
            "  File \"/content/drive/MyDrive/ai-challenge/train.py\", line 78, in <module>\n",
            "    loss.backward()\n",
            "  File \"/usr/local/lib/python3.10/dist-packages/torch/_tensor.py\", line 521, in backward\n",
            "    torch.autograd.backward(\n",
            "  File \"/usr/local/lib/python3.10/dist-packages/torch/autograd/__init__.py\", line 289, in backward\n",
            "    _engine_run_backward(\n",
            "  File \"/usr/local/lib/python3.10/dist-packages/torch/autograd/graph.py\", line 769, in _engine_run_backward\n",
            "    return Variable._execution_engine.run_backward(  # Calls into the C++ engine to run the backward pass\n",
            "KeyboardInterrupt\n"
          ]
        }
      ]
    },
    {
      "cell_type": "code",
      "source": [
        "!python3 test.py"
      ],
      "metadata": {
        "id": "Xz8V6OuQb0Pl",
        "outputId": "ccc819ad-4140-452c-eb30-dec66900cfad",
        "colab": {
          "base_uri": "https://localhost:8080/"
        }
      },
      "execution_count": 168,
      "outputs": [
        {
          "output_type": "stream",
          "name": "stdout",
          "text": [
            "Total number of trainable parameters: 99400\n",
            "----------------------------------------------------------------\n",
            "        Layer (type)               Output Shape         Param #\n",
            "================================================================\n",
            "            Conv2d-1           [-1, 16, 16, 16]             432\n",
            "       BatchNorm2d-2           [-1, 16, 16, 16]              32\n",
            "              ReLU-3           [-1, 16, 16, 16]               0\n",
            "         MaxPool2d-4             [-1, 16, 8, 8]               0\n",
            "            Conv2d-5             [-1, 16, 4, 4]             144\n",
            "       BatchNorm2d-6             [-1, 16, 4, 4]              32\n",
            "            Conv2d-7             [-1, 16, 4, 4]             256\n",
            "       BatchNorm2d-8             [-1, 16, 4, 4]              32\n",
            "              ReLU-9             [-1, 16, 4, 4]               0\n",
            "           Conv2d-10             [-1, 16, 8, 8]             256\n",
            "      BatchNorm2d-11             [-1, 16, 8, 8]              32\n",
            "             ReLU-12             [-1, 16, 8, 8]               0\n",
            "           Conv2d-13             [-1, 16, 4, 4]             144\n",
            "      BatchNorm2d-14             [-1, 16, 4, 4]              32\n",
            "           Conv2d-15             [-1, 16, 4, 4]             256\n",
            "      BatchNorm2d-16             [-1, 16, 4, 4]              32\n",
            "             ReLU-17             [-1, 16, 4, 4]               0\n",
            "       MyNetBlock-18             [-1, 32, 4, 4]               0\n",
            "           Conv2d-19             [-1, 16, 4, 4]             256\n",
            "      BatchNorm2d-20             [-1, 16, 4, 4]              32\n",
            "             ReLU-21             [-1, 16, 4, 4]               0\n",
            "           Conv2d-22             [-1, 16, 4, 4]             144\n",
            "      BatchNorm2d-23             [-1, 16, 4, 4]              32\n",
            "           Conv2d-24             [-1, 16, 4, 4]             256\n",
            "      BatchNorm2d-25             [-1, 16, 4, 4]              32\n",
            "             ReLU-26             [-1, 16, 4, 4]               0\n",
            "       MyNetBlock-27             [-1, 32, 4, 4]               0\n",
            "           Conv2d-28             [-1, 16, 4, 4]             256\n",
            "      BatchNorm2d-29             [-1, 16, 4, 4]              32\n",
            "             ReLU-30             [-1, 16, 4, 4]               0\n",
            "           Conv2d-31             [-1, 16, 4, 4]             144\n",
            "      BatchNorm2d-32             [-1, 16, 4, 4]              32\n",
            "           Conv2d-33             [-1, 16, 4, 4]             256\n",
            "      BatchNorm2d-34             [-1, 16, 4, 4]              32\n",
            "             ReLU-35             [-1, 16, 4, 4]               0\n",
            "       MyNetBlock-36             [-1, 32, 4, 4]               0\n",
            "           Conv2d-37             [-1, 16, 4, 4]             256\n",
            "      BatchNorm2d-38             [-1, 16, 4, 4]              32\n",
            "             ReLU-39             [-1, 16, 4, 4]               0\n",
            "           Conv2d-40             [-1, 16, 4, 4]             144\n",
            "      BatchNorm2d-41             [-1, 16, 4, 4]              32\n",
            "           Conv2d-42             [-1, 16, 4, 4]             256\n",
            "      BatchNorm2d-43             [-1, 16, 4, 4]              32\n",
            "             ReLU-44             [-1, 16, 4, 4]               0\n",
            "       MyNetBlock-45             [-1, 32, 4, 4]               0\n",
            "           Conv2d-46             [-1, 32, 2, 2]             288\n",
            "      BatchNorm2d-47             [-1, 32, 2, 2]              64\n",
            "           Conv2d-48             [-1, 32, 2, 2]           1,024\n",
            "      BatchNorm2d-49             [-1, 32, 2, 2]              64\n",
            "             ReLU-50             [-1, 32, 2, 2]               0\n",
            "           Conv2d-51             [-1, 32, 4, 4]           1,024\n",
            "      BatchNorm2d-52             [-1, 32, 4, 4]              64\n",
            "             ReLU-53             [-1, 32, 4, 4]               0\n",
            "           Conv2d-54             [-1, 32, 2, 2]             288\n",
            "      BatchNorm2d-55             [-1, 32, 2, 2]              64\n",
            "           Conv2d-56             [-1, 32, 2, 2]           1,024\n",
            "      BatchNorm2d-57             [-1, 32, 2, 2]              64\n",
            "             ReLU-58             [-1, 32, 2, 2]               0\n",
            "       MyNetBlock-59             [-1, 64, 2, 2]               0\n",
            "           Conv2d-60             [-1, 32, 2, 2]           1,024\n",
            "      BatchNorm2d-61             [-1, 32, 2, 2]              64\n",
            "             ReLU-62             [-1, 32, 2, 2]               0\n",
            "           Conv2d-63             [-1, 32, 2, 2]             288\n",
            "      BatchNorm2d-64             [-1, 32, 2, 2]              64\n",
            "           Conv2d-65             [-1, 32, 2, 2]           1,024\n",
            "      BatchNorm2d-66             [-1, 32, 2, 2]              64\n",
            "             ReLU-67             [-1, 32, 2, 2]               0\n",
            "       MyNetBlock-68             [-1, 64, 2, 2]               0\n",
            "           Conv2d-69             [-1, 32, 2, 2]           1,024\n",
            "      BatchNorm2d-70             [-1, 32, 2, 2]              64\n",
            "             ReLU-71             [-1, 32, 2, 2]               0\n",
            "           Conv2d-72             [-1, 32, 2, 2]             288\n",
            "      BatchNorm2d-73             [-1, 32, 2, 2]              64\n",
            "           Conv2d-74             [-1, 32, 2, 2]           1,024\n",
            "      BatchNorm2d-75             [-1, 32, 2, 2]              64\n",
            "             ReLU-76             [-1, 32, 2, 2]               0\n",
            "       MyNetBlock-77             [-1, 64, 2, 2]               0\n",
            "           Conv2d-78             [-1, 32, 2, 2]           1,024\n",
            "      BatchNorm2d-79             [-1, 32, 2, 2]              64\n",
            "             ReLU-80             [-1, 32, 2, 2]               0\n",
            "           Conv2d-81             [-1, 32, 2, 2]             288\n",
            "      BatchNorm2d-82             [-1, 32, 2, 2]              64\n",
            "           Conv2d-83             [-1, 32, 2, 2]           1,024\n",
            "      BatchNorm2d-84             [-1, 32, 2, 2]              64\n",
            "             ReLU-85             [-1, 32, 2, 2]               0\n",
            "       MyNetBlock-86             [-1, 64, 2, 2]               0\n",
            "           Conv2d-87             [-1, 32, 2, 2]           1,024\n",
            "      BatchNorm2d-88             [-1, 32, 2, 2]              64\n",
            "             ReLU-89             [-1, 32, 2, 2]               0\n",
            "           Conv2d-90             [-1, 32, 2, 2]             288\n",
            "      BatchNorm2d-91             [-1, 32, 2, 2]              64\n",
            "           Conv2d-92             [-1, 32, 2, 2]           1,024\n",
            "      BatchNorm2d-93             [-1, 32, 2, 2]              64\n",
            "             ReLU-94             [-1, 32, 2, 2]               0\n",
            "       MyNetBlock-95             [-1, 64, 2, 2]               0\n",
            "           Conv2d-96             [-1, 32, 2, 2]           1,024\n",
            "      BatchNorm2d-97             [-1, 32, 2, 2]              64\n",
            "             ReLU-98             [-1, 32, 2, 2]               0\n",
            "           Conv2d-99             [-1, 32, 2, 2]             288\n",
            "     BatchNorm2d-100             [-1, 32, 2, 2]              64\n",
            "          Conv2d-101             [-1, 32, 2, 2]           1,024\n",
            "     BatchNorm2d-102             [-1, 32, 2, 2]              64\n",
            "            ReLU-103             [-1, 32, 2, 2]               0\n",
            "      MyNetBlock-104             [-1, 64, 2, 2]               0\n",
            "          Conv2d-105             [-1, 32, 2, 2]           1,024\n",
            "     BatchNorm2d-106             [-1, 32, 2, 2]              64\n",
            "            ReLU-107             [-1, 32, 2, 2]               0\n",
            "          Conv2d-108             [-1, 32, 2, 2]             288\n",
            "     BatchNorm2d-109             [-1, 32, 2, 2]              64\n",
            "          Conv2d-110             [-1, 32, 2, 2]           1,024\n",
            "     BatchNorm2d-111             [-1, 32, 2, 2]              64\n",
            "            ReLU-112             [-1, 32, 2, 2]               0\n",
            "      MyNetBlock-113             [-1, 64, 2, 2]               0\n",
            "          Conv2d-114             [-1, 32, 2, 2]           1,024\n",
            "     BatchNorm2d-115             [-1, 32, 2, 2]              64\n",
            "            ReLU-116             [-1, 32, 2, 2]               0\n",
            "          Conv2d-117             [-1, 32, 2, 2]             288\n",
            "     BatchNorm2d-118             [-1, 32, 2, 2]              64\n",
            "          Conv2d-119             [-1, 32, 2, 2]           1,024\n",
            "     BatchNorm2d-120             [-1, 32, 2, 2]              64\n",
            "            ReLU-121             [-1, 32, 2, 2]               0\n",
            "      MyNetBlock-122             [-1, 64, 2, 2]               0\n",
            "          Conv2d-123             [-1, 32, 2, 2]           1,024\n",
            "     BatchNorm2d-124             [-1, 32, 2, 2]              64\n",
            "            ReLU-125             [-1, 32, 2, 2]               0\n",
            "          Conv2d-126             [-1, 32, 2, 2]             288\n",
            "     BatchNorm2d-127             [-1, 32, 2, 2]              64\n",
            "          Conv2d-128             [-1, 32, 2, 2]           1,024\n",
            "     BatchNorm2d-129             [-1, 32, 2, 2]              64\n",
            "            ReLU-130             [-1, 32, 2, 2]               0\n",
            "      MyNetBlock-131             [-1, 64, 2, 2]               0\n",
            "          Conv2d-132             [-1, 32, 2, 2]           1,024\n",
            "     BatchNorm2d-133             [-1, 32, 2, 2]              64\n",
            "            ReLU-134             [-1, 32, 2, 2]               0\n",
            "          Conv2d-135             [-1, 32, 2, 2]             288\n",
            "     BatchNorm2d-136             [-1, 32, 2, 2]              64\n",
            "          Conv2d-137             [-1, 32, 2, 2]           1,024\n",
            "     BatchNorm2d-138             [-1, 32, 2, 2]              64\n",
            "            ReLU-139             [-1, 32, 2, 2]               0\n",
            "      MyNetBlock-140             [-1, 64, 2, 2]               0\n",
            "          Conv2d-141             [-1, 32, 2, 2]           1,024\n",
            "     BatchNorm2d-142             [-1, 32, 2, 2]              64\n",
            "            ReLU-143             [-1, 32, 2, 2]               0\n",
            "          Conv2d-144             [-1, 32, 2, 2]             288\n",
            "     BatchNorm2d-145             [-1, 32, 2, 2]              64\n",
            "          Conv2d-146             [-1, 32, 2, 2]           1,024\n",
            "     BatchNorm2d-147             [-1, 32, 2, 2]              64\n",
            "            ReLU-148             [-1, 32, 2, 2]               0\n",
            "      MyNetBlock-149             [-1, 64, 2, 2]               0\n",
            "          Conv2d-150             [-1, 32, 2, 2]           1,024\n",
            "     BatchNorm2d-151             [-1, 32, 2, 2]              64\n",
            "            ReLU-152             [-1, 32, 2, 2]               0\n",
            "          Conv2d-153             [-1, 32, 2, 2]             288\n",
            "     BatchNorm2d-154             [-1, 32, 2, 2]              64\n",
            "          Conv2d-155             [-1, 32, 2, 2]           1,024\n",
            "     BatchNorm2d-156             [-1, 32, 2, 2]              64\n",
            "            ReLU-157             [-1, 32, 2, 2]               0\n",
            "      MyNetBlock-158             [-1, 64, 2, 2]               0\n",
            "          Conv2d-159             [-1, 64, 1, 1]             576\n",
            "     BatchNorm2d-160             [-1, 64, 1, 1]             128\n",
            "          Conv2d-161             [-1, 64, 1, 1]           4,096\n",
            "     BatchNorm2d-162             [-1, 64, 1, 1]             128\n",
            "            ReLU-163             [-1, 64, 1, 1]               0\n",
            "          Conv2d-164             [-1, 64, 2, 2]           4,096\n",
            "     BatchNorm2d-165             [-1, 64, 2, 2]             128\n",
            "            ReLU-166             [-1, 64, 2, 2]               0\n",
            "          Conv2d-167             [-1, 64, 1, 1]             576\n",
            "     BatchNorm2d-168             [-1, 64, 1, 1]             128\n",
            "          Conv2d-169             [-1, 64, 1, 1]           4,096\n",
            "     BatchNorm2d-170             [-1, 64, 1, 1]             128\n",
            "            ReLU-171             [-1, 64, 1, 1]               0\n",
            "      MyNetBlock-172            [-1, 128, 1, 1]               0\n",
            "          Conv2d-173             [-1, 64, 1, 1]           4,096\n",
            "     BatchNorm2d-174             [-1, 64, 1, 1]             128\n",
            "            ReLU-175             [-1, 64, 1, 1]               0\n",
            "          Conv2d-176             [-1, 64, 1, 1]             576\n",
            "     BatchNorm2d-177             [-1, 64, 1, 1]             128\n",
            "          Conv2d-178             [-1, 64, 1, 1]           4,096\n",
            "     BatchNorm2d-179             [-1, 64, 1, 1]             128\n",
            "            ReLU-180             [-1, 64, 1, 1]               0\n",
            "      MyNetBlock-181            [-1, 128, 1, 1]               0\n",
            "          Conv2d-182             [-1, 64, 1, 1]           4,096\n",
            "     BatchNorm2d-183             [-1, 64, 1, 1]             128\n",
            "            ReLU-184             [-1, 64, 1, 1]               0\n",
            "          Conv2d-185             [-1, 64, 1, 1]             576\n",
            "     BatchNorm2d-186             [-1, 64, 1, 1]             128\n",
            "          Conv2d-187             [-1, 64, 1, 1]           4,096\n",
            "     BatchNorm2d-188             [-1, 64, 1, 1]             128\n",
            "            ReLU-189             [-1, 64, 1, 1]               0\n",
            "      MyNetBlock-190            [-1, 128, 1, 1]               0\n",
            "          Conv2d-191             [-1, 64, 1, 1]           4,096\n",
            "     BatchNorm2d-192             [-1, 64, 1, 1]             128\n",
            "            ReLU-193             [-1, 64, 1, 1]               0\n",
            "          Conv2d-194             [-1, 64, 1, 1]             576\n",
            "     BatchNorm2d-195             [-1, 64, 1, 1]             128\n",
            "          Conv2d-196             [-1, 64, 1, 1]           4,096\n",
            "     BatchNorm2d-197             [-1, 64, 1, 1]             128\n",
            "            ReLU-198             [-1, 64, 1, 1]               0\n",
            "      MyNetBlock-199            [-1, 128, 1, 1]               0\n",
            "          Conv2d-200             [-1, 64, 1, 1]           4,096\n",
            "     BatchNorm2d-201             [-1, 64, 1, 1]             128\n",
            "            ReLU-202             [-1, 64, 1, 1]               0\n",
            "          Conv2d-203             [-1, 64, 1, 1]             576\n",
            "     BatchNorm2d-204             [-1, 64, 1, 1]             128\n",
            "          Conv2d-205             [-1, 64, 1, 1]           4,096\n",
            "     BatchNorm2d-206             [-1, 64, 1, 1]             128\n",
            "            ReLU-207             [-1, 64, 1, 1]               0\n",
            "      MyNetBlock-208            [-1, 128, 1, 1]               0\n",
            "          Conv2d-209            [-1, 100, 1, 1]          12,800\n",
            "     BatchNorm2d-210            [-1, 100, 1, 1]             200\n",
            "            ReLU-211            [-1, 100, 1, 1]               0\n",
            "================================================================\n",
            "Total params: 99,400\n",
            "Trainable params: 99,400\n",
            "Non-trainable params: 0\n",
            "----------------------------------------------------------------\n",
            "Input size (MB): 0.01\n",
            "Forward/backward pass size (MB): 0.37\n",
            "Params size (MB): 0.38\n",
            "Estimated Total Size (MB): 0.76\n",
            "----------------------------------------------------------------\n"
          ]
        }
      ]
    }
  ],
  "metadata": {
    "kernelspec": {
      "display_name": "Python 3",
      "name": "python3"
    },
    "language_info": {
      "codemirror_mode": {
        "name": "ipython",
        "version": 3
      },
      "file_extension": ".py",
      "mimetype": "text/x-python",
      "name": "python",
      "nbconvert_exporter": "python",
      "pygments_lexer": "ipython3",
      "version": "3.9.12"
    },
    "colab": {
      "provenance": [],
      "machine_shape": "hm",
      "gpuType": "A100",
      "include_colab_link": true
    },
    "accelerator": "GPU"
  },
  "nbformat": 4,
  "nbformat_minor": 0
}