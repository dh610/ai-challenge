{
  "cells": [
    {
      "cell_type": "markdown",
      "metadata": {
        "id": "view-in-github",
        "colab_type": "text"
      },
      "source": [
        "<a href=\"https://colab.research.google.com/github/dh610/ai-challenge/blob/main/exec.ipynb\" target=\"_parent\"><img src=\"https://colab.research.google.com/assets/colab-badge.svg\" alt=\"Open In Colab\"/></a>"
      ]
    },
    {
      "cell_type": "code",
      "source": [
        "from google.colab import drive\n",
        "drive.mount('/content/drive')"
      ],
      "metadata": {
        "colab": {
          "base_uri": "https://localhost:8080/"
        },
        "id": "3LeERkBIL1j8",
        "outputId": "b4c5c2f5-4bb5-4570-c39d-b0a0c3d56310"
      },
      "execution_count": 1,
      "outputs": [
        {
          "output_type": "stream",
          "name": "stdout",
          "text": [
            "Mounted at /content/drive\n"
          ]
        }
      ]
    },
    {
      "cell_type": "code",
      "source": [
        "import sys\n",
        "import os\n",
        "\n",
        "os.chdir(\"/content/drive/MyDrive/ai-challenge/\")\n",
        "!git pull"
      ],
      "metadata": {
        "id": "kr8sQ0b2QVsK",
        "outputId": "d40e3b7c-ef85-4c81-fc1c-3c036f1b2a24",
        "colab": {
          "base_uri": "https://localhost:8080/"
        }
      },
      "execution_count": 46,
      "outputs": [
        {
          "output_type": "stream",
          "name": "stdout",
          "text": [
            "remote: Enumerating objects: 5, done.\u001b[K\n",
            "remote: Counting objects:  20% (1/5)\u001b[K\rremote: Counting objects:  40% (2/5)\u001b[K\rremote: Counting objects:  60% (3/5)\u001b[K\rremote: Counting objects:  80% (4/5)\u001b[K\rremote: Counting objects: 100% (5/5)\u001b[K\rremote: Counting objects: 100% (5/5), done.\u001b[K\n",
            "remote: Compressing objects: 100% (1/1)\u001b[K\rremote: Compressing objects: 100% (1/1), done.\u001b[K\n",
            "remote: Total 3 (delta 2), reused 3 (delta 2), pack-reused 0 (from 0)\u001b[K\n",
            "Unpacking objects: 100% (3/3), 266 bytes | 0 bytes/s, done.\n",
            "From https://github.com/dh610/ai-challenge\n",
            "   94ae032..fe279cf  main       -> origin/main\n",
            "Updating 94ae032..fe279cf\n",
            "Fast-forward\n",
            " train.py | 2 \u001b[32m+\u001b[m\u001b[31m-\u001b[m\n",
            " 1 file changed, 1 insertion(+), 1 deletion(-)\n"
          ]
        }
      ]
    },
    {
      "cell_type": "code",
      "source": [
        "!python3 train.py"
      ],
      "metadata": {
        "id": "v-epJXo4Bb7h",
        "outputId": "e8506123-bf3b-4108-902f-a7971aaa594e",
        "colab": {
          "base_uri": "https://localhost:8080/"
        }
      },
      "execution_count": 47,
      "outputs": [
        {
          "output_type": "stream",
          "name": "stdout",
          "text": [
            "No checkpoint found.\n",
            "Total number of trainable parameters: 99188\n",
            "100% 2813/2813 [00:31<00:00, 90.60it/s]\n",
            "Epoch [1/1000], Train Loss: nan, Train Accuracy: 0.0100, Val Loss: nan, Val Accuracy: 0.0100\n",
            "100% 2813/2813 [00:30<00:00, 91.76it/s]\n",
            "Epoch [2/1000], Train Loss: nan, Train Accuracy: 0.0100, Val Loss: nan, Val Accuracy: 0.0100\n",
            "  5% 141/2813 [00:01<00:31, 84.31it/s]\n",
            "Traceback (most recent call last):\n",
            "  File \"/usr/local/lib/python3.10/dist-packages/torch/optim/optimizer.py\", line 484, in wrapper\n",
            "    out = func(*args, **kwargs)\n",
            "  File \"/usr/local/lib/python3.10/dist-packages/torch/optim/optimizer.py\", line 89, in _use_grad\n",
            "    ret = func(self, *args, **kwargs)\n",
            "  File \"/usr/local/lib/python3.10/dist-packages/torch/optim/adamw.py\", line 227, in step\n",
            "    adamw(\n",
            "  File \"/usr/local/lib/python3.10/dist-packages/torch/optim/optimizer.py\", line 161, in maybe_fallback\n",
            "    return func(*args, **kwargs)\n",
            "  File \"/usr/local/lib/python3.10/dist-packages/torch/optim/adamw.py\", line 767, in adamw\n",
            "    func(\n",
            "  File \"/usr/local/lib/python3.10/dist-packages/torch/optim/adamw.py\", line 580, in _multi_tensor_adamw\n",
            "    bias_correction1 = [\n",
            "  File \"/usr/local/lib/python3.10/dist-packages/torch/optim/adamw.py\", line 581, in <listcomp>\n",
            "    1 - beta1 ** _get_value(step) for step in device_state_steps\n",
            "  File \"/usr/local/lib/python3.10/dist-packages/torch/optim/optimizer.py\", line 104, in _get_value\n",
            "    return x.item() if isinstance(x, torch.Tensor) else x\n",
            "KeyboardInterrupt\n",
            "\n",
            "During handling of the above exception, another exception occurred:\n",
            "\n",
            "Traceback (most recent call last):\n",
            "  File \"/content/drive/MyDrive/ai-challenge/train.py\", line 120, in <module>\n",
            "    optimizer.step()\n",
            "  File \"/usr/local/lib/python3.10/dist-packages/torch/optim/optimizer.py\", line 469, in wrapper\n",
            "    with torch.autograd.profiler.record_function(profile_name):\n",
            "  File \"/usr/local/lib/python3.10/dist-packages/torch/autograd/profiler.py\", line 704, in __exit__\n",
            "    with torch._C.DisableTorchFunctionSubclass():\n",
            "KeyboardInterrupt\n"
          ]
        }
      ]
    },
    {
      "cell_type": "code",
      "source": [
        "!python3 test.py"
      ],
      "metadata": {
        "id": "Xz8V6OuQb0Pl",
        "outputId": "3139bf91-be57-429f-ab1a-b8b33799f57f",
        "colab": {
          "base_uri": "https://localhost:8080/"
        }
      },
      "execution_count": 32,
      "outputs": [
        {
          "output_type": "stream",
          "name": "stdout",
          "text": [
            "Total number of trainable parameters: 99188\n",
            "Loading checkpoint: epoch_207.pth\n",
            "/content/drive/MyDrive/ai-challenge/utils.py:58: FutureWarning: You are using `torch.load` with `weights_only=False` (the current default value), which uses the default pickle module implicitly. It is possible to construct malicious pickle data which will execute arbitrary code during unpickling (See https://github.com/pytorch/pytorch/blob/main/SECURITY.md#untrusted-models for more details). In a future release, the default value for `weights_only` will be flipped to `True`. This limits the functions that could be executed during unpickling. Arbitrary objects will no longer be allowed to be loaded via this mode unless they are explicitly allowlisted by the user via `torch.serialization.add_safe_globals`. We recommend you start setting `weights_only=True` for any use case where you don't have full control of the loaded file. Please open an issue on GitHub for any issues related to this experimental feature.\n",
            "  checkpoint = torch.load(os.path.join(ckpt_path, latest_checkpoint))\n",
            "odict_keys(['conv1.0.weight', 'conv1.1.weight', 'conv1.1.bias', 'conv1.1.running_mean', 'conv1.1.running_var', 'conv1.1.num_batches_tracked', 'conv3_x.0.residual_function.0.depthwise.weight', 'conv3_x.0.residual_function.0.pointwise.weight', 'conv3_x.0.residual_function.1.weight', 'conv3_x.0.residual_function.1.bias', 'conv3_x.0.residual_function.1.running_mean', 'conv3_x.0.residual_function.1.running_var', 'conv3_x.0.residual_function.1.num_batches_tracked', 'conv3_x.0.residual_function.3.depthwise.weight', 'conv3_x.0.residual_function.3.pointwise.weight', 'conv3_x.0.residual_function.4.weight', 'conv3_x.0.residual_function.4.bias', 'conv3_x.0.residual_function.4.running_mean', 'conv3_x.0.residual_function.4.running_var', 'conv3_x.0.residual_function.4.num_batches_tracked', 'conv3_x.0.shortcut.0.depthwise.weight', 'conv3_x.0.shortcut.0.pointwise.weight', 'conv3_x.0.shortcut.1.weight', 'conv3_x.0.shortcut.1.bias', 'conv3_x.0.shortcut.1.running_mean', 'conv3_x.0.shortcut.1.running_var', 'conv3_x.0.shortcut.1.num_batches_tracked', 'conv3_x.1.residual_function.0.depthwise.weight', 'conv3_x.1.residual_function.0.pointwise.weight', 'conv3_x.1.residual_function.1.weight', 'conv3_x.1.residual_function.1.bias', 'conv3_x.1.residual_function.1.running_mean', 'conv3_x.1.residual_function.1.running_var', 'conv3_x.1.residual_function.1.num_batches_tracked', 'conv3_x.1.residual_function.3.depthwise.weight', 'conv3_x.1.residual_function.3.pointwise.weight', 'conv3_x.1.residual_function.4.weight', 'conv3_x.1.residual_function.4.bias', 'conv3_x.1.residual_function.4.running_mean', 'conv3_x.1.residual_function.4.running_var', 'conv3_x.1.residual_function.4.num_batches_tracked', 'conv4_x.0.residual_function.0.depthwise.weight', 'conv4_x.0.residual_function.0.pointwise.weight', 'conv4_x.0.residual_function.1.weight', 'conv4_x.0.residual_function.1.bias', 'conv4_x.0.residual_function.1.running_mean', 'conv4_x.0.residual_function.1.running_var', 'conv4_x.0.residual_function.1.num_batches_tracked', 'conv4_x.0.residual_function.3.depthwise.weight', 'conv4_x.0.residual_function.3.pointwise.weight', 'conv4_x.0.residual_function.4.weight', 'conv4_x.0.residual_function.4.bias', 'conv4_x.0.residual_function.4.running_mean', 'conv4_x.0.residual_function.4.running_var', 'conv4_x.0.residual_function.4.num_batches_tracked', 'conv4_x.0.shortcut.0.depthwise.weight', 'conv4_x.0.shortcut.0.pointwise.weight', 'conv4_x.0.shortcut.1.weight', 'conv4_x.0.shortcut.1.bias', 'conv4_x.0.shortcut.1.running_mean', 'conv4_x.0.shortcut.1.running_var', 'conv4_x.0.shortcut.1.num_batches_tracked', 'conv5_x.0.residual_function.0.depthwise.weight', 'conv5_x.0.residual_function.0.pointwise.weight', 'conv5_x.0.residual_function.1.weight', 'conv5_x.0.residual_function.1.bias', 'conv5_x.0.residual_function.1.running_mean', 'conv5_x.0.residual_function.1.running_var', 'conv5_x.0.residual_function.1.num_batches_tracked', 'conv5_x.0.residual_function.3.depthwise.weight', 'conv5_x.0.residual_function.3.pointwise.weight', 'conv5_x.0.residual_function.4.weight', 'conv5_x.0.residual_function.4.bias', 'conv5_x.0.residual_function.4.running_mean', 'conv5_x.0.residual_function.4.running_var', 'conv5_x.0.residual_function.4.num_batches_tracked', 'conv5_x.0.shortcut.0.depthwise.weight', 'conv5_x.0.shortcut.0.pointwise.weight', 'conv5_x.0.shortcut.1.weight', 'conv5_x.0.shortcut.1.bias', 'conv5_x.0.shortcut.1.running_mean', 'conv5_x.0.shortcut.1.running_var', 'conv5_x.0.shortcut.1.num_batches_tracked', 'conv5_x.1.residual_function.0.depthwise.weight', 'conv5_x.1.residual_function.0.pointwise.weight', 'conv5_x.1.residual_function.1.weight', 'conv5_x.1.residual_function.1.bias', 'conv5_x.1.residual_function.1.running_mean', 'conv5_x.1.residual_function.1.running_var', 'conv5_x.1.residual_function.1.num_batches_tracked', 'conv5_x.1.residual_function.3.depthwise.weight', 'conv5_x.1.residual_function.3.pointwise.weight', 'conv5_x.1.residual_function.4.weight', 'conv5_x.1.residual_function.4.bias', 'conv5_x.1.residual_function.4.running_mean', 'conv5_x.1.residual_function.4.running_var', 'conv5_x.1.residual_function.4.num_batches_tracked', 'fc.weight', 'fc.bias'])\n",
            "/content/drive/MyDrive/ai-challenge/utils.py:61: FutureWarning: You are using `torch.load` with `weights_only=False` (the current default value), which uses the default pickle module implicitly. It is possible to construct malicious pickle data which will execute arbitrary code during unpickling (See https://github.com/pytorch/pytorch/blob/main/SECURITY.md#untrusted-models for more details). In a future release, the default value for `weights_only` will be flipped to `True`. This limits the functions that could be executed during unpickling. Arbitrary objects will no longer be allowed to be loaded via this mode unless they are explicitly allowlisted by the user via `torch.serialization.add_safe_globals`. We recommend you start setting `weights_only=True` for any use case where you don't have full control of the loaded file. Please open an issue on GitHub for any issues related to this experimental feature.\n",
            "  checkpoint = torch.load(os.path.join(ckpt_path, latest_checkpoint))\n",
            "Test predictions saved to 'result/test_predictions.csv'.\n"
          ]
        }
      ]
    }
  ],
  "metadata": {
    "kernelspec": {
      "display_name": "Python 3",
      "name": "python3"
    },
    "language_info": {
      "codemirror_mode": {
        "name": "ipython",
        "version": 3
      },
      "file_extension": ".py",
      "mimetype": "text/x-python",
      "name": "python",
      "nbconvert_exporter": "python",
      "pygments_lexer": "ipython3",
      "version": "3.9.12"
    },
    "colab": {
      "provenance": [],
      "gpuType": "L4",
      "machine_shape": "hm",
      "include_colab_link": true
    },
    "accelerator": "GPU"
  },
  "nbformat": 4,
  "nbformat_minor": 0
}